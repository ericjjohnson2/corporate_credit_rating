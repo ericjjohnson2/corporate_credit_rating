{
 "cells": [
  {
   "cell_type": "markdown",
   "metadata": {},
   "source": [
    "**Introduction to the Company Credit Risk Predictor**\n",
    "\n",
    "This Jupyter notebook is a part of a project focused on assessing company credit risk, predicting whether a company's credit rating falls into investment-grade or junk-grade categories. This notebook sets up an interactive environment where users can select different machine learning models and enter a company's ticker symbol for analysis. Upon execution, the selected model processes the data and provides predictions, along with relevant metrics and visualizations such as confusion matrices and importance plots.\n",
    "\n",
    "This user-friendly tool serves as a practical aid for investors and financial analysts, offering insights into potential credit risks associated with different companies.\n"
   ]
  },
  {
   "cell_type": "code",
   "execution_count": 1,
   "metadata": {},
   "outputs": [],
   "source": [
    "from ipywidgets import interact, widgets\n",
    "from IPython.display import clear_output\n"
   ]
  },
  {
   "cell_type": "code",
   "execution_count": 2,
   "metadata": {},
   "outputs": [],
   "source": [
    "import sys\n",
    "sys.path.append('../scripts')  \n",
    "from functions import process_data_and_predict\n"
   ]
  },
  {
   "cell_type": "code",
   "execution_count": 7,
   "metadata": {},
   "outputs": [
    {
     "data": {
      "application/vnd.jupyter.widget-view+json": {
       "model_id": "10a8570469bf4e02a1fbb7dbef90edf1",
       "version_major": 2,
       "version_minor": 0
      },
      "text/plain": [
       "VBox(children=(HTML(value=\"<h1 style='color: #FFFFFF; background-color: #ADD8E6; font-size: 24px; font-weight:…"
      ]
     },
     "execution_count": 7,
     "metadata": {},
     "output_type": "execute_result"
    }
   ],
   "source": [
    "from ipywidgets import interact, widgets, Output, HTML\n",
    "from IPython.display import clear_output, display\n",
    "from functions import process_data_and_predict\n",
    "from PIL import Image\n",
    "import os\n",
    "import pandas as pd\n",
    "pd.set_option('display.max_columns', None)\n",
    "pd.set_option('display.expand_frame_repr', True)\n",
    "\n",
    "# Define model types and model numbers\n",
    "model_types = ['random_forest', 'random_forest_kfolding', 'gbm', 'svc', 'xgboost', 'deeplearning']\n",
    "model_numbers = [1, 2, 3, 4, 5]\n",
    "\n",
    "# Create dropdown widgets\n",
    "model_type_dropdown = widgets.Dropdown(options=model_types, description='Model Type:')\n",
    "model_number_dropdown = widgets.Dropdown(options=model_numbers, description='Model Number:')\n",
    "ticker_input = widgets.Text(description='Ticker:', value='AAPL')  # Set default value for Ticker\n",
    "execute_button = widgets.Button(description='Execute')\n",
    "\n",
    "# Create Output widgets to display the results and the image\n",
    "output_widget = Output()\n",
    "image_output_widget = Output()\n",
    "\n",
    "# Define a variable to store the current value of the ticker input\n",
    "current_ticker_value = 'AAPL'\n",
    "\n",
    "# Define callback function to update the current ticker value when the input changes\n",
    "def update_ticker_value(change):\n",
    "    global current_ticker_value\n",
    "    current_ticker_value = change.new\n",
    "\n",
    "# Observe changes to the value attribute of the ticker input widget\n",
    "ticker_input.observe(update_ticker_value, names='value')\n",
    "\n",
    "# Define callback function for button click\n",
    "def on_execute_button_clicked(button):\n",
    "    model_type = model_type_dropdown.value\n",
    "    model_number = model_number_dropdown.value\n",
    "    ticker = current_ticker_value  # Use the current value of the ticker input\n",
    "    \n",
    "    # Clear previous outputs\n",
    "    with output_widget:\n",
    "        clear_output()\n",
    "    with image_output_widget:\n",
    "        clear_output()\n",
    "    \n",
    "    predictions, metrics_df = process_data_and_predict(ticker, model_type, model_number)\n",
    "    \n",
    "    # Display predictions and metrics in the output widget\n",
    "    with output_widget:\n",
    "        print(f\"Ticker: {ticker}\")\n",
    "        print(\"Predictions:\")\n",
    "        if predictions[0] == 0:\n",
    "            print(\"Junk Grade\")\n",
    "        elif predictions[0] == 1:\n",
    "            print(\"Investment Grade\")\n",
    "        else:\n",
    "            print(\"Error: Unexpected prediction value\")\n",
    "        print(\"\\nMetrics:\")\n",
    "        # Get the number of columns\n",
    "        num_cols = len(metrics_df.columns)\n",
    "\n",
    "        # Splitting the columns into two halves\n",
    "        first_half_df = metrics_df.iloc[:, :num_cols // 2]\n",
    "        second_half_df = metrics_df.iloc[:, num_cols // 2:]\n",
    "\n",
    "        print(first_half_df.to_string(index=False))\n",
    "        print(\"\\n\", second_half_df.to_string(index=False))\n",
    "        # print(metrics_df.to_string(index=False))\n",
    "    \n",
    "    # Reset dropdowns to their default values\n",
    "    model_type_dropdown.value = model_types[0]  # Set model type dropdown to its first option\n",
    "    model_number_dropdown.value = model_numbers[0]  # Set model number dropdown to its first option\n",
    "    \n",
    "    # Display Model Information, Confusion Matrix\n",
    "   \n",
    "    image_path = f'../img/models/{model_type}/model{model_number}_confusion_matrix.png'\n",
    "    if os.path.exists(image_path):\n",
    "        with image_output_widget:\n",
    "            print('About the Selected Model: ')\n",
    "            print(f'Model Type: {model_type}')\n",
    "            print(f'Model Number: {model_number}')\n",
    "            display(HTML(\"<h2>Confusion Matrix</h2>\"))\n",
    "            display(Image.open(image_path))\n",
    "            if model_type == 'random_forest' or model_type == 'random_forest_kfolding':\n",
    "                image_path2 = f'../img/models/{model_type}/model{model_number}_importances_plot.png'\n",
    "                display(Image.open(image_path2))\n",
    "            else:\n",
    "                print('Model Importance Plot Not Found')\n",
    "    else:\n",
    "        with image_output_widget:\n",
    "            print('About the Selected Model: ')\n",
    "            print(f'Model Type: {model_type}')\n",
    "            print(f'Model Number: {model_number}')\n",
    "            print('Image not found.')\n",
    "\n",
    "# Attach callback function to button click event\n",
    "execute_button.on_click(on_execute_button_clicked)\n",
    "\n",
    "# Create an HTML widget for the banner\n",
    "banner_html = HTML(\"<h1 style='color: #FFFFFF; background-color: #ADD8E6; font-size: 24px; font-weight: bold; text-align: center;'>Model Predictor</h1>\")\n",
    "\n",
    "# Display widgets in a VBox layout for cleaner appearance\n",
    "widgets.VBox([banner_html, model_type_dropdown, model_number_dropdown, ticker_input, execute_button, output_widget, image_output_widget])\n"
   ]
  },
  {
   "cell_type": "markdown",
   "metadata": {},
   "source": [
    "## Summary\n",
    "\n",
    "The application of machine learning has yielded encouraging outcomes. Through experimentation with various models, some patterns have emerged: certain models excel in predicting positive outcomes, while others are proficient in identifying negative outcomes. The random forest models are the top performers with 95% accuracy rate on this test dataset.\n",
    "\n",
    "However, during deployment in real-world scenarios, particularly in predicting junk credit status (S&P BB+ or lower), challenges arose. Despite techniques like oversampling and undersampling to address class imbalances, the models struggled to accurately identify instances of junk credit. They did however exhibit consistent success in predicting good credit status.\n",
    "\n",
    "To enhance model performance, alternative methods were explored such as k-folding and feature engineering. One notable limitation was the absence of industry sector information in our API. This was available in training and testing datasets, and when utilized the model performance improved. But these features were dropped due to constraints in the API's data retrieval capabilities. It is evident that incorporating industry sector data could significantly enhance prediction accuracy.\n"
   ]
  }
 ],
 "metadata": {
  "kernelspec": {
   "display_name": "dev",
   "language": "python",
   "name": "python3"
  },
  "language_info": {
   "codemirror_mode": {
    "name": "ipython",
    "version": 3
   },
   "file_extension": ".py",
   "mimetype": "text/x-python",
   "name": "python",
   "nbconvert_exporter": "python",
   "pygments_lexer": "ipython3",
   "version": "3.11.8"
  }
 },
 "nbformat": 4,
 "nbformat_minor": 2
}
