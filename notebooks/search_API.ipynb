{
 "cells": [
  {
   "cell_type": "code",
   "execution_count": 9,
   "metadata": {},
   "outputs": [],
   "source": [
    "from ipywidgets import interact, widgets\n",
    "from IPython.display import clear_output\n"
   ]
  },
  {
   "cell_type": "code",
   "execution_count": 2,
   "metadata": {},
   "outputs": [],
   "source": [
    "import sys\n",
    "sys.path.append('../scripts')  \n",
    "from functions import process_data_and_predict\n"
   ]
  },
  {
   "cell_type": "code",
   "execution_count": 20,
   "metadata": {},
   "outputs": [
    {
     "data": {
      "application/vnd.jupyter.widget-view+json": {
       "model_id": "57a7c4d178b0444e92abbf3581a4e40b",
       "version_major": 2,
       "version_minor": 0
      },
      "text/plain": [
       "VBox(children=(HTML(value=\"<h1 style='color: #FFFFFF; background-color: #ADD8E6; font-size: 24px; font-weight:…"
      ]
     },
     "execution_count": 20,
     "metadata": {},
     "output_type": "execute_result"
    }
   ],
   "source": [
    "from ipywidgets import interact, widgets, Output, HTML\n",
    "from IPython.display import clear_output\n",
    "from functions import process_data_and_predict\n",
    "from colorama import Fore, Back, Style\n",
    "\n",
    "# Define model types and model numbers\n",
    "model_types = ['random_forest', 'deeplearning']\n",
    "model_numbers = [6, 5, 4, 3, 2, 1]\n",
    "\n",
    "# Create dropdown widgets\n",
    "model_type_dropdown = widgets.Dropdown(options=model_types, description='Model Type:')\n",
    "model_number_dropdown = widgets.Dropdown(options=model_numbers, description='Model Number:')\n",
    "ticker_input = widgets.Text(description='Ticker:', value='AAPL')  # Set default value for Ticker\n",
    "execute_button = widgets.Button(description='Execute')\n",
    "\n",
    "# Create an Output widget to display the results\n",
    "output_widget = Output()\n",
    "\n",
    "# Define a variable to store the current value of the ticker input\n",
    "current_ticker_value = 'AAPL'\n",
    "\n",
    "# Define callback function to update the current ticker value when the input changes\n",
    "def update_ticker_value(change):\n",
    "    global current_ticker_value\n",
    "    current_ticker_value = change.new\n",
    "\n",
    "# Observe changes to the value attribute of the ticker input widget\n",
    "ticker_input.observe(update_ticker_value, names='value')\n",
    "\n",
    "# Define callback function for button click\n",
    "def on_execute_button_clicked(button):\n",
    "    model_type = model_type_dropdown.value\n",
    "    model_number = model_number_dropdown.value\n",
    "    ticker = current_ticker_value  # Use the current value of the ticker input\n",
    "    \n",
    "    # Clear previous output\n",
    "    with output_widget:\n",
    "        clear_output()\n",
    "    \n",
    "    predictions, metrics_df = process_data_and_predict(ticker, model_type, model_number)\n",
    "    \n",
    "    # Display predictions and metrics in the output widget\n",
    "    with output_widget:\n",
    "        print(f\"Ticker: {ticker}\")\n",
    "        print(\"Predictions:\")\n",
    "        if predictions[0] == 0:\n",
    "            print(\"Junk Grade\")\n",
    "        elif predictions[0] == 1:\n",
    "            print(\"Investment Grade\")\n",
    "        else:\n",
    "            print(\"Error: Unexpected prediction value\")\n",
    "        print(\"\\nMetrics:\")\n",
    "        print(metrics_df)\n",
    "    \n",
    "    # Update the text box with the current ticker value\n",
    "    ticker_input.value = current_ticker_value\n",
    "    \n",
    "    # Reset dropdowns to their default values\n",
    "    model_type_dropdown.value = model_types[0]  # Set model type dropdown to its first option\n",
    "    model_number_dropdown.value = model_numbers[0]  # Set model number dropdown to its first option\n",
    "\n",
    "# Attach callback function to button click event\n",
    "execute_button.on_click(on_execute_button_clicked)\n",
    "\n",
    "# Create an HTML widget for the banner\n",
    "banner_html = HTML(\"<h1 style='color: #FFFFFF; background-color: #ADD8E6; font-size: 24px; font-weight: bold; text-align: center;'>Model Predictor</h1>\")\n",
    "\n",
    "# Display widgets in a VBox layout for cleaner appearance\n",
    "widgets.VBox([banner_html, model_type_dropdown, model_number_dropdown, ticker_input, execute_button, output_widget])\n"
   ]
  },
  {
   "cell_type": "code",
   "execution_count": 52,
   "metadata": {},
   "outputs": [
    {
     "data": {
      "application/vnd.jupyter.widget-view+json": {
       "model_id": "3bbc7d4a56e5403caa0429f19f4ca085",
       "version_major": 2,
       "version_minor": 0
      },
      "text/plain": [
       "VBox(children=(HTML(value=\"<h1 style='color: #FFFFFF; background-color: #ADD8E6; font-size: 24px; font-weight:…"
      ]
     },
     "execution_count": 52,
     "metadata": {},
     "output_type": "execute_result"
    }
   ],
   "source": [
    "from ipywidgets import interact, widgets, Output, HTML\n",
    "from IPython.display import clear_output, display\n",
    "from functions import process_data_and_predict\n",
    "from PIL import Image\n",
    "import os\n",
    "import pandas as pd\n",
    "pd.set_option('display.max_columns', None)\n",
    "pd.set_option('display.expand_frame_repr', True)\n",
    "\n",
    "# Define model types and model numbers\n",
    "model_types = ['random_forest', 'deeplearning']\n",
    "model_numbers = [6, 5, 4, 3, 2, 1]\n",
    "\n",
    "# Create dropdown widgets\n",
    "model_type_dropdown = widgets.Dropdown(options=model_types, description='Model Type:')\n",
    "model_number_dropdown = widgets.Dropdown(options=model_numbers, description='Model Number:')\n",
    "ticker_input = widgets.Text(description='Ticker:', value='AAPL')  # Set default value for Ticker\n",
    "execute_button = widgets.Button(description='Execute')\n",
    "\n",
    "# Create Output widgets to display the results and the image\n",
    "output_widget = Output()\n",
    "image_output_widget = Output()\n",
    "\n",
    "# Define a variable to store the current value of the ticker input\n",
    "current_ticker_value = 'AAPL'\n",
    "\n",
    "# Define callback function to update the current ticker value when the input changes\n",
    "def update_ticker_value(change):\n",
    "    global current_ticker_value\n",
    "    current_ticker_value = change.new\n",
    "\n",
    "# Observe changes to the value attribute of the ticker input widget\n",
    "ticker_input.observe(update_ticker_value, names='value')\n",
    "\n",
    "# Define callback function for button click\n",
    "def on_execute_button_clicked(button):\n",
    "    model_type = model_type_dropdown.value\n",
    "    model_number = model_number_dropdown.value\n",
    "    ticker = current_ticker_value  # Use the current value of the ticker input\n",
    "    \n",
    "    # Clear previous outputs\n",
    "    with output_widget:\n",
    "        clear_output()\n",
    "    with image_output_widget:\n",
    "        clear_output()\n",
    "    \n",
    "    predictions, metrics_df = process_data_and_predict(ticker, model_type, model_number)\n",
    "    \n",
    "    # Display predictions and metrics in the output widget\n",
    "    with output_widget:\n",
    "        print(f\"Ticker: {ticker}\")\n",
    "        print(\"Predictions:\")\n",
    "        if predictions[0] == 0:\n",
    "            print(\"Junk Grade\")\n",
    "        elif predictions[0] == 1:\n",
    "            print(\"Investment Grade\")\n",
    "        else:\n",
    "            print(\"Error: Unexpected prediction value\")\n",
    "        print(\"\\nMetrics:\")\n",
    "        # Get the number of columns\n",
    "        num_cols = len(metrics_df.columns)\n",
    "\n",
    "        # Splitting the columns into two halves\n",
    "        first_half_df = metrics_df.iloc[:, :num_cols // 2]\n",
    "        second_half_df = metrics_df.iloc[:, num_cols // 2:]\n",
    "\n",
    "        print(first_half_df.to_string(index=False))\n",
    "        print(\"\\n\", second_half_df.to_string(index=False))\n",
    "        # print(metrics_df.to_string(index=False))\n",
    "    \n",
    "    # Reset dropdowns to their default values\n",
    "    model_type_dropdown.value = model_types[0]  # Set model type dropdown to its first option\n",
    "    model_number_dropdown.value = model_numbers[0]  # Set model number dropdown to its first option\n",
    "    \n",
    "    # If model_type is 'deeplearning', display the image\n",
    "    if model_type == 'random_forest':\n",
    "        image_path = f'../img/models/{model_type}/model{model_number}_importances_plot.png'\n",
    "        if os.path.exists(image_path):\n",
    "            with image_output_widget:\n",
    "                print('About the Selected Model: ')\n",
    "                print(f'Model Type: {model_type}')\n",
    "                print(f'Model Number: {model_number}')\n",
    "                display(Image.open(image_path))\n",
    "        else:\n",
    "            print(\"Image not found.\")\n",
    "\n",
    "# Attach callback function to button click event\n",
    "execute_button.on_click(on_execute_button_clicked)\n",
    "\n",
    "# Create an HTML widget for the banner\n",
    "banner_html = HTML(\"<h1 style='color: #FFFFFF; background-color: #ADD8E6; font-size: 24px; font-weight: bold; text-align: center;'>Model Predictor</h1>\")\n",
    "\n",
    "# Display widgets in a VBox layout for cleaner appearance\n",
    "widgets.VBox([banner_html, model_type_dropdown, model_number_dropdown, ticker_input, execute_button, output_widget, image_output_widget])\n"
   ]
  },
  {
   "cell_type": "code",
   "execution_count": null,
   "metadata": {},
   "outputs": [],
   "source": []
  },
  {
   "cell_type": "code",
   "execution_count": null,
   "metadata": {},
   "outputs": [],
   "source": []
  },
  {
   "cell_type": "code",
   "execution_count": null,
   "metadata": {},
   "outputs": [],
   "source": []
  }
 ],
 "metadata": {
  "kernelspec": {
   "display_name": "dev",
   "language": "python",
   "name": "python3"
  },
  "language_info": {
   "codemirror_mode": {
    "name": "ipython",
    "version": 3
   },
   "file_extension": ".py",
   "mimetype": "text/x-python",
   "name": "python",
   "nbconvert_exporter": "python",
   "pygments_lexer": "ipython3",
   "version": "3.11.0"
  }
 },
 "nbformat": 4,
 "nbformat_minor": 2
}
