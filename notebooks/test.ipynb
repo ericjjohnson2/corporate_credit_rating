{
 "cells": [
  {
   "cell_type": "code",
   "execution_count": 2,
   "metadata": {},
   "outputs": [
    {
     "data": {
      "text/html": [
       "\n",
       "<style>\n",
       "/* Custom banner style */\n",
       ".banner {\n",
       "    background-color: #007bff; /* Blue color */\n",
       "    color: white;\n",
       "    padding: 10px;\n",
       "    text-align: center;\n",
       "    font-size: 20px;\n",
       "}\n",
       "\n",
       "/* Custom text input style */\n",
       ".text-input {\n",
       "    width: 200px;\n",
       "    padding: 5px;\n",
       "    border: 1px solid #ccc;\n",
       "    border-radius: 4px;\n",
       "    margin-bottom: 10px;\n",
       "}\n",
       "\n",
       "/* Custom button style */\n",
       ".button {\n",
       "    background-color: #007bff; /* Blue color */\n",
       "    color: white;\n",
       "    padding: 10px 20px;\n",
       "    border: none;\n",
       "    border-radius: 4px;\n",
       "    cursor: pointer;\n",
       "}\n",
       "</style>\n"
      ],
      "text/plain": [
       "<IPython.core.display.HTML object>"
      ]
     },
     "metadata": {},
     "output_type": "display_data"
    },
    {
     "data": {
      "text/html": [
       "\n",
       "<div class=\"banner\">\n",
       "    Custom Banner\n",
       "</div>\n"
      ],
      "text/plain": [
       "<IPython.core.display.HTML object>"
      ]
     },
     "metadata": {},
     "output_type": "display_data"
    },
    {
     "data": {
      "application/vnd.jupyter.widget-view+json": {
       "model_id": "7273e990d3bb4f1782ad256a609844b8",
       "version_major": 2,
       "version_minor": 0
      },
      "text/plain": [
       "Text(value='Type here', description='Input:', layout=Layout(width='200px'), style=TextStyle(description_width=…"
      ]
     },
     "metadata": {},
     "output_type": "display_data"
    },
    {
     "data": {
      "application/vnd.jupyter.widget-view+json": {
       "model_id": "96f9f7b6f8e4495d88928944626aee38",
       "version_major": 2,
       "version_minor": 0
      },
      "text/plain": [
       "Button(button_style='primary', description='Submit', style=ButtonStyle())"
      ]
     },
     "metadata": {},
     "output_type": "display_data"
    }
   ],
   "source": [
    "import ipywidgets as widgets\n",
    "from IPython.display import display, HTML\n",
    "\n",
    "# Define custom CSS styles\n",
    "custom_css = \"\"\"\n",
    "<style>\n",
    "/* Custom banner style */\n",
    ".banner {\n",
    "    background-color: #007bff; /* Blue color */\n",
    "    color: white;\n",
    "    padding: 10px;\n",
    "    text-align: center;\n",
    "    font-size: 20px;\n",
    "}\n",
    "\n",
    "/* Custom text input style */\n",
    ".text-input {\n",
    "    width: 200px;\n",
    "    padding: 5px;\n",
    "    border: 1px solid #ccc;\n",
    "    border-radius: 4px;\n",
    "    margin-bottom: 10px;\n",
    "}\n",
    "\n",
    "/* Custom button style */\n",
    ".button {\n",
    "    background-color: #007bff; /* Blue color */\n",
    "    color: white;\n",
    "    padding: 10px 20px;\n",
    "    border: none;\n",
    "    border-radius: 4px;\n",
    "    cursor: pointer;\n",
    "}\n",
    "</style>\n",
    "\"\"\"\n",
    "\n",
    "# Custom banner HTML\n",
    "banner_html = \"\"\"\n",
    "<div class=\"banner\">\n",
    "    Custom Banner\n",
    "</div>\n",
    "\"\"\"\n",
    "\n",
    "# Custom text input field\n",
    "text_input = widgets.Text(value='Type here', description='Input:', layout=widgets.Layout(width='200px'), style={'description_width': 'initial'})\n",
    "button = widgets.Button(description='Submit', button_style='primary')\n",
    "\n",
    "# Display the custom banner\n",
    "display(HTML(custom_css))\n",
    "display(HTML(banner_html))\n",
    "\n",
    "# Display text input field and button\n",
    "display(text_input)\n",
    "display(button)\n",
    "\n",
    "# Define a function to handle button click event\n",
    "def handle_submit(sender):\n",
    "    print(\"Input:\", text_input.value)\n",
    "\n",
    "# Attach the function to the button's click event\n",
    "button.on_click(handle_submit)\n"
   ]
  },
  {
   "cell_type": "code",
   "execution_count": null,
   "metadata": {},
   "outputs": [],
   "source": []
  }
 ],
 "metadata": {
  "kernelspec": {
   "display_name": "dev",
   "language": "python",
   "name": "python3"
  },
  "language_info": {
   "codemirror_mode": {
    "name": "ipython",
    "version": 3
   },
   "file_extension": ".py",
   "mimetype": "text/x-python",
   "name": "python",
   "nbconvert_exporter": "python",
   "pygments_lexer": "ipython3",
   "version": "3.11.0"
  }
 },
 "nbformat": 4,
 "nbformat_minor": 2
}
