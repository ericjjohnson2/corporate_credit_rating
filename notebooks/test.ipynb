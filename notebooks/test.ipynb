{
 "cells": [
  {
   "cell_type": "code",
   "execution_count": 1,
   "metadata": {},
   "outputs": [
    {
     "data": {
      "text/html": [
       "\n",
       "<style>\n",
       "/* Custom banner style */\n",
       ".banner {\n",
       "    background-color: #007bff; /* Blue color */\n",
       "    color: white;\n",
       "    padding: 10px;\n",
       "    text-align: center;\n",
       "    font-size: 20px;\n",
       "}\n",
       "\n",
       "/* Custom text input style */\n",
       ".text-input {\n",
       "    width: 200px;\n",
       "    padding: 5px;\n",
       "    border: 1px solid #ccc;\n",
       "    border-radius: 4px;\n",
       "    margin-bottom: 10px;\n",
       "}\n",
       "\n",
       "/* Custom button style */\n",
       ".button {\n",
       "    background-color: #007bff; /* Blue color */\n",
       "    color: white;\n",
       "    padding: 10px 20px;\n",
       "    border: none;\n",
       "    border-radius: 4px;\n",
       "    cursor: pointer;\n",
       "}\n",
       "</style>\n"
      ],
      "text/plain": [
       "<IPython.core.display.HTML object>"
      ]
     },
     "metadata": {},
     "output_type": "display_data"
    },
    {
     "data": {
      "text/html": [
       "\n",
       "<div class=\"banner\">\n",
       "    Custom Banner\n",
       "</div>\n"
      ],
      "text/plain": [
       "<IPython.core.display.HTML object>"
      ]
     },
     "metadata": {},
     "output_type": "display_data"
    },
    {
     "data": {
      "application/vnd.jupyter.widget-view+json": {
       "model_id": "62e0421bb137433eb5a3247d38aa3e72",
       "version_major": 2,
       "version_minor": 0
      },
      "text/plain": [
       "Text(value='Type here', description='Input:', layout=Layout(width='200px'), style=TextStyle(description_width=…"
      ]
     },
     "metadata": {},
     "output_type": "display_data"
    },
    {
     "data": {
      "application/vnd.jupyter.widget-view+json": {
       "model_id": "e33e3f4696f140759fdeeada84babff8",
       "version_major": 2,
       "version_minor": 0
      },
      "text/plain": [
       "Button(button_style='primary', description='Submit', style=ButtonStyle())"
      ]
     },
     "metadata": {},
     "output_type": "display_data"
    },
    {
     "name": "stdout",
     "output_type": "stream",
     "text": [
      "Input: APPL\n",
      "Input: 'APPL'\n"
     ]
    }
   ],
   "source": [
    "import ipywidgets as widgets\n",
    "from IPython.display import display, HTML\n",
    "\n",
    "# Define custom CSS styles\n",
    "custom_css = \"\"\"\n",
    "<style>\n",
    "/* Custom banner style */\n",
    ".banner {\n",
    "    background-color: #007bff; /* Blue color */\n",
    "    color: white;\n",
    "    padding: 10px;\n",
    "    text-align: center;\n",
    "    font-size: 20px;\n",
    "}\n",
    "\n",
    "/* Custom text input style */\n",
    ".text-input {\n",
    "    width: 200px;\n",
    "    padding: 5px;\n",
    "    border: 1px solid #ccc;\n",
    "    border-radius: 4px;\n",
    "    margin-bottom: 10px;\n",
    "}\n",
    "\n",
    "/* Custom button style */\n",
    ".button {\n",
    "    background-color: #007bff; /* Blue color */\n",
    "    color: white;\n",
    "    padding: 10px 20px;\n",
    "    border: none;\n",
    "    border-radius: 4px;\n",
    "    cursor: pointer;\n",
    "}\n",
    "</style>\n",
    "\"\"\"\n",
    "\n",
    "# Custom banner HTML\n",
    "banner_html = \"\"\"\n",
    "<div class=\"banner\">\n",
    "    Custom Banner\n",
    "</div>\n",
    "\"\"\"\n",
    "\n",
    "# Custom text input field\n",
    "text_input = widgets.Text(value='Type here', description='Input:', layout=widgets.Layout(width='200px'), style={'description_width': 'initial'})\n",
    "button = widgets.Button(description='Submit', button_style='primary')\n",
    "\n",
    "# Display the custom banner\n",
    "display(HTML(custom_css))\n",
    "display(HTML(banner_html))\n",
    "\n",
    "# Display text input field and button\n",
    "display(text_input)\n",
    "display(button)\n",
    "\n",
    "# Define a function to handle button click event\n",
    "def handle_submit(sender):\n",
    "    print(\"Input:\", text_input.value)\n",
    "\n",
    "# Attach the function to the button's click event\n",
    "button.on_click(handle_submit)\n"
   ]
  },
  {
   "cell_type": "code",
   "execution_count": 4,
   "metadata": {},
   "outputs": [
    {
     "name": "stdout",
     "output_type": "stream",
     "text": [
      "Exchange rate from USD to EUR: 0.91420000\n"
     ]
    }
   ],
   "source": [
    "import sys\n",
    "sys.path.append('../keys')  \n",
    "\n",
    "from your_config import ALPHA_VANTAGE_API_KEY\n",
    "import requests\n",
    "#from config import ALPHA_VANTAGE_API_KEY  # Ensure this import matches your file structure\n",
    "\n",
    "def get_exchange_rate(api_key, from_currency, to_currency):\n",
    "    url = \"https://www.alphavantage.co/query\"\n",
    "    params = {\n",
    "        \"function\": \"CURRENCY_EXCHANGE_RATE\",\n",
    "        \"from_currency\": from_currency,\n",
    "        \"to_currency\": to_currency,\n",
    "        \"apikey\": api_key,\n",
    "    }\n",
    "    response = requests.get(url, params=params)\n",
    "    data = response.json()\n",
    "    \n",
    "    if \"Realtime Currency Exchange Rate\" in data:\n",
    "        rate = data[\"Realtime Currency Exchange Rate\"][\"5. Exchange Rate\"]\n",
    "        print(f\"Exchange rate from {from_currency} to {to_currency}: {rate}\")\n",
    "    else:\n",
    "        print(\"Failed to fetch exchange rate. Please check your API key and parameters.\")\n",
    "\n",
    "get_exchange_rate(ALPHA_VANTAGE_API_KEY, \"USD\", \"EUR\")"
   ]
  },
  {
   "cell_type": "code",
   "execution_count": null,
   "metadata": {},
   "outputs": [],
   "source": []
  }
 ],
 "metadata": {
  "kernelspec": {
   "display_name": "dev",
   "language": "python",
   "name": "python3"
  },
  "language_info": {
   "codemirror_mode": {
    "name": "ipython",
    "version": 3
   },
   "file_extension": ".py",
   "mimetype": "text/x-python",
   "name": "python",
   "nbconvert_exporter": "python",
   "pygments_lexer": "ipython3",
   "version": "3.11.5"
  }
 },
 "nbformat": 4,
 "nbformat_minor": 2
}
