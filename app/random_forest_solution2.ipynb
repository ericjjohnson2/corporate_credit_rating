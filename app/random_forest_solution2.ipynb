{
 "cells": [
  {
   "cell_type": "markdown",
   "metadata": {},
   "source": [
    "# Blah blah blah"
   ]
  },
  {
   "cell_type": "code",
   "execution_count": 1,
   "metadata": {},
   "outputs": [],
   "source": [
    "# Initial imports\n",
    "import pandas as pd\n",
    "from pathlib import Path\n",
    "from sklearn.ensemble import RandomForestClassifier\n",
    "from sklearn.preprocessing import StandardScaler\n",
    "from sklearn.model_selection import train_test_split\n",
    "from sklearn.metrics import confusion_matrix, accuracy_score, classification_report\n",
    "import sqlite3\n",
    "%matplotlib inline\n"
   ]
  },
  {
   "cell_type": "code",
   "execution_count": 2,
   "metadata": {},
   "outputs": [],
   "source": [
    "connection = sqlite3.connect('../data/db.sqlite')\n",
    "ratings = pd.read_sql_query(\"SELECT * FROM ratings\", connection)\n",
    "clean = pd.read_sql_query(\"SELECT * FROM clean\", connection)\n",
    "dummies = pd.read_sql_query(\"SELECT * FROM dummies\", connection)\n",
    "\n",
    "connection.close()"
   ]
  },
  {
   "cell_type": "markdown",
   "metadata": {},
   "source": [
    "## Loading and Preprocessing Loans Encoded Data"
   ]
  },
  {
   "cell_type": "code",
   "execution_count": 3,
   "metadata": {},
   "outputs": [
    {
     "data": {
      "text/html": [
       "<div>\n",
       "<style scoped>\n",
       "    .dataframe tbody tr th:only-of-type {\n",
       "        vertical-align: middle;\n",
       "    }\n",
       "\n",
       "    .dataframe tbody tr th {\n",
       "        vertical-align: top;\n",
       "    }\n",
       "\n",
       "    .dataframe thead th {\n",
       "        text-align: right;\n",
       "    }\n",
       "</style>\n",
       "<table border=\"1\" class=\"dataframe\">\n",
       "  <thead>\n",
       "    <tr style=\"text-align: right;\">\n",
       "      <th></th>\n",
       "      <th>Rating Agency</th>\n",
       "      <th>Rating Date</th>\n",
       "      <th>Binary Rating</th>\n",
       "      <th>SIC Code</th>\n",
       "      <th>Sector</th>\n",
       "      <th>Current Ratio</th>\n",
       "      <th>Long-term Debt / Capital</th>\n",
       "      <th>Debt/Equity Ratio</th>\n",
       "      <th>Gross Margin</th>\n",
       "      <th>Operating Margin</th>\n",
       "      <th>...</th>\n",
       "      <th>EBITDA Margin</th>\n",
       "      <th>Pre-Tax Profit Margin</th>\n",
       "      <th>Net Profit Margin</th>\n",
       "      <th>Asset Turnover</th>\n",
       "      <th>ROE - Return On Equity</th>\n",
       "      <th>Return On Tangible Equity</th>\n",
       "      <th>ROA - Return On Assets</th>\n",
       "      <th>ROI - Return On Investment</th>\n",
       "      <th>Operating Cash Flow Per Share</th>\n",
       "      <th>Free Cash Flow Per Share</th>\n",
       "    </tr>\n",
       "  </thead>\n",
       "  <tbody>\n",
       "    <tr>\n",
       "      <th>0</th>\n",
       "      <td>Standard &amp; Poor's Ratings Services</td>\n",
       "      <td>2010-07-30</td>\n",
       "      <td>1</td>\n",
       "      <td>4941.0</td>\n",
       "      <td>Utils</td>\n",
       "      <td>1.1507</td>\n",
       "      <td>0.4551</td>\n",
       "      <td>0.8847</td>\n",
       "      <td>77.6230</td>\n",
       "      <td>19.4839</td>\n",
       "      <td>...</td>\n",
       "      <td>28.9834</td>\n",
       "      <td>13.6093</td>\n",
       "      <td>8.3224</td>\n",
       "      <td>0.3173</td>\n",
       "      <td>8.1724</td>\n",
       "      <td>8.1978</td>\n",
       "      <td>2.6385</td>\n",
       "      <td>4.4530</td>\n",
       "      <td>1.9957</td>\n",
       "      <td>-0.1333</td>\n",
       "    </tr>\n",
       "    <tr>\n",
       "      <th>1</th>\n",
       "      <td>Standard &amp; Poor's Ratings Services</td>\n",
       "      <td>2010-09-16</td>\n",
       "      <td>1</td>\n",
       "      <td>7374.0</td>\n",
       "      <td>BusEq</td>\n",
       "      <td>1.1129</td>\n",
       "      <td>0.0072</td>\n",
       "      <td>0.0073</td>\n",
       "      <td>43.6619</td>\n",
       "      <td>19.8327</td>\n",
       "      <td>...</td>\n",
       "      <td>23.9379</td>\n",
       "      <td>20.8699</td>\n",
       "      <td>13.5690</td>\n",
       "      <td>0.3324</td>\n",
       "      <td>22.0354</td>\n",
       "      <td>47.2858</td>\n",
       "      <td>4.4944</td>\n",
       "      <td>21.8765</td>\n",
       "      <td>0.2501</td>\n",
       "      <td>0.3132</td>\n",
       "    </tr>\n",
       "    <tr>\n",
       "      <th>2</th>\n",
       "      <td>Standard &amp; Poor's Ratings Services</td>\n",
       "      <td>2010-11-23</td>\n",
       "      <td>1</td>\n",
       "      <td>5065.0</td>\n",
       "      <td>Shops</td>\n",
       "      <td>1.9276</td>\n",
       "      <td>0.2924</td>\n",
       "      <td>0.4255</td>\n",
       "      <td>11.9008</td>\n",
       "      <td>3.3173</td>\n",
       "      <td>...</td>\n",
       "      <td>3.6338</td>\n",
       "      <td>3.0536</td>\n",
       "      <td>2.1418</td>\n",
       "      <td>2.4620</td>\n",
       "      <td>13.6376</td>\n",
       "      <td>16.7991</td>\n",
       "      <td>5.2731</td>\n",
       "      <td>9.6494</td>\n",
       "      <td>-7.6079</td>\n",
       "      <td>-7.3231</td>\n",
       "    </tr>\n",
       "    <tr>\n",
       "      <th>3</th>\n",
       "      <td>Standard &amp; Poor's Ratings Services</td>\n",
       "      <td>2010-06-29</td>\n",
       "      <td>1</td>\n",
       "      <td>4941.0</td>\n",
       "      <td>Utils</td>\n",
       "      <td>0.8358</td>\n",
       "      <td>0.4708</td>\n",
       "      <td>0.9491</td>\n",
       "      <td>64.5096</td>\n",
       "      <td>18.4549</td>\n",
       "      <td>...</td>\n",
       "      <td>27.9377</td>\n",
       "      <td>15.1135</td>\n",
       "      <td>9.0246</td>\n",
       "      <td>0.2946</td>\n",
       "      <td>9.6412</td>\n",
       "      <td>9.7015</td>\n",
       "      <td>2.6583</td>\n",
       "      <td>5.1018</td>\n",
       "      <td>1.7438</td>\n",
       "      <td>-0.8999</td>\n",
       "    </tr>\n",
       "    <tr>\n",
       "      <th>4</th>\n",
       "      <td>Standard &amp; Poor's Ratings Services</td>\n",
       "      <td>2010-07-14</td>\n",
       "      <td>1</td>\n",
       "      <td>5122.0</td>\n",
       "      <td>Shops</td>\n",
       "      <td>1.2931</td>\n",
       "      <td>0.2644</td>\n",
       "      <td>0.4036</td>\n",
       "      <td>3.8385</td>\n",
       "      <td>1.3269</td>\n",
       "      <td>...</td>\n",
       "      <td>1.5847</td>\n",
       "      <td>1.2304</td>\n",
       "      <td>0.6518</td>\n",
       "      <td>4.9276</td>\n",
       "      <td>11.1256</td>\n",
       "      <td>19.4184</td>\n",
       "      <td>2.9364</td>\n",
       "      <td>8.1844</td>\n",
       "      <td>1.9725</td>\n",
       "      <td>2.4174</td>\n",
       "    </tr>\n",
       "  </tbody>\n",
       "</table>\n",
       "<p>5 rows × 21 columns</p>\n",
       "</div>"
      ],
      "text/plain": [
       "                        Rating Agency Rating Date  Binary Rating  SIC Code  \\\n",
       "0  Standard & Poor's Ratings Services  2010-07-30              1    4941.0   \n",
       "1  Standard & Poor's Ratings Services  2010-09-16              1    7374.0   \n",
       "2  Standard & Poor's Ratings Services  2010-11-23              1    5065.0   \n",
       "3  Standard & Poor's Ratings Services  2010-06-29              1    4941.0   \n",
       "4  Standard & Poor's Ratings Services  2010-07-14              1    5122.0   \n",
       "\n",
       "  Sector  Current Ratio  Long-term Debt / Capital  Debt/Equity Ratio  \\\n",
       "0  Utils         1.1507                    0.4551             0.8847   \n",
       "1  BusEq         1.1129                    0.0072             0.0073   \n",
       "2  Shops         1.9276                    0.2924             0.4255   \n",
       "3  Utils         0.8358                    0.4708             0.9491   \n",
       "4  Shops         1.2931                    0.2644             0.4036   \n",
       "\n",
       "   Gross Margin  Operating Margin  ...  EBITDA Margin  Pre-Tax Profit Margin  \\\n",
       "0       77.6230           19.4839  ...        28.9834                13.6093   \n",
       "1       43.6619           19.8327  ...        23.9379                20.8699   \n",
       "2       11.9008            3.3173  ...         3.6338                 3.0536   \n",
       "3       64.5096           18.4549  ...        27.9377                15.1135   \n",
       "4        3.8385            1.3269  ...         1.5847                 1.2304   \n",
       "\n",
       "   Net Profit Margin  Asset Turnover  ROE - Return On Equity  \\\n",
       "0             8.3224          0.3173                  8.1724   \n",
       "1            13.5690          0.3324                 22.0354   \n",
       "2             2.1418          2.4620                 13.6376   \n",
       "3             9.0246          0.2946                  9.6412   \n",
       "4             0.6518          4.9276                 11.1256   \n",
       "\n",
       "   Return On Tangible Equity  ROA - Return On Assets  \\\n",
       "0                     8.1978                  2.6385   \n",
       "1                    47.2858                  4.4944   \n",
       "2                    16.7991                  5.2731   \n",
       "3                     9.7015                  2.6583   \n",
       "4                    19.4184                  2.9364   \n",
       "\n",
       "   ROI - Return On Investment  Operating Cash Flow Per Share  \\\n",
       "0                      4.4530                         1.9957   \n",
       "1                     21.8765                         0.2501   \n",
       "2                      9.6494                        -7.6079   \n",
       "3                      5.1018                         1.7438   \n",
       "4                      8.1844                         1.9725   \n",
       "\n",
       "   Free Cash Flow Per Share  \n",
       "0                   -0.1333  \n",
       "1                    0.3132  \n",
       "2                   -7.3231  \n",
       "3                   -0.8999  \n",
       "4                    2.4174  \n",
       "\n",
       "[5 rows x 21 columns]"
      ]
     },
     "execution_count": 3,
     "metadata": {},
     "output_type": "execute_result"
    }
   ],
   "source": [
    "clean.head()"
   ]
  },
  {
   "cell_type": "code",
   "execution_count": 4,
   "metadata": {},
   "outputs": [
    {
     "data": {
      "text/html": [
       "<div>\n",
       "<style scoped>\n",
       "    .dataframe tbody tr th:only-of-type {\n",
       "        vertical-align: middle;\n",
       "    }\n",
       "\n",
       "    .dataframe tbody tr th {\n",
       "        vertical-align: top;\n",
       "    }\n",
       "\n",
       "    .dataframe thead th {\n",
       "        text-align: right;\n",
       "    }\n",
       "</style>\n",
       "<table border=\"1\" class=\"dataframe\">\n",
       "  <thead>\n",
       "    <tr style=\"text-align: right;\">\n",
       "      <th></th>\n",
       "      <th>Current Ratio</th>\n",
       "      <th>Long-term Debt / Capital</th>\n",
       "      <th>Debt/Equity Ratio</th>\n",
       "      <th>Gross Margin</th>\n",
       "      <th>Operating Margin</th>\n",
       "      <th>EBIT Margin</th>\n",
       "      <th>EBITDA Margin</th>\n",
       "      <th>Pre-Tax Profit Margin</th>\n",
       "      <th>Net Profit Margin</th>\n",
       "      <th>Asset Turnover</th>\n",
       "      <th>ROE - Return On Equity</th>\n",
       "      <th>Return On Tangible Equity</th>\n",
       "      <th>ROA - Return On Assets</th>\n",
       "      <th>ROI - Return On Investment</th>\n",
       "      <th>Operating Cash Flow Per Share</th>\n",
       "      <th>Free Cash Flow Per Share</th>\n",
       "    </tr>\n",
       "  </thead>\n",
       "  <tbody>\n",
       "    <tr>\n",
       "      <th>0</th>\n",
       "      <td>1.1507</td>\n",
       "      <td>0.4551</td>\n",
       "      <td>0.8847</td>\n",
       "      <td>77.6230</td>\n",
       "      <td>19.4839</td>\n",
       "      <td>19.4839</td>\n",
       "      <td>28.9834</td>\n",
       "      <td>13.6093</td>\n",
       "      <td>8.3224</td>\n",
       "      <td>0.3173</td>\n",
       "      <td>8.1724</td>\n",
       "      <td>8.1978</td>\n",
       "      <td>2.6385</td>\n",
       "      <td>4.4530</td>\n",
       "      <td>1.9957</td>\n",
       "      <td>-0.1333</td>\n",
       "    </tr>\n",
       "    <tr>\n",
       "      <th>1</th>\n",
       "      <td>1.1129</td>\n",
       "      <td>0.0072</td>\n",
       "      <td>0.0073</td>\n",
       "      <td>43.6619</td>\n",
       "      <td>19.8327</td>\n",
       "      <td>19.8327</td>\n",
       "      <td>23.9379</td>\n",
       "      <td>20.8699</td>\n",
       "      <td>13.5690</td>\n",
       "      <td>0.3324</td>\n",
       "      <td>22.0354</td>\n",
       "      <td>47.2858</td>\n",
       "      <td>4.4944</td>\n",
       "      <td>21.8765</td>\n",
       "      <td>0.2501</td>\n",
       "      <td>0.3132</td>\n",
       "    </tr>\n",
       "    <tr>\n",
       "      <th>2</th>\n",
       "      <td>1.9276</td>\n",
       "      <td>0.2924</td>\n",
       "      <td>0.4255</td>\n",
       "      <td>11.9008</td>\n",
       "      <td>3.3173</td>\n",
       "      <td>3.3173</td>\n",
       "      <td>3.6338</td>\n",
       "      <td>3.0536</td>\n",
       "      <td>2.1418</td>\n",
       "      <td>2.4620</td>\n",
       "      <td>13.6376</td>\n",
       "      <td>16.7991</td>\n",
       "      <td>5.2731</td>\n",
       "      <td>9.6494</td>\n",
       "      <td>-7.6079</td>\n",
       "      <td>-7.3231</td>\n",
       "    </tr>\n",
       "    <tr>\n",
       "      <th>3</th>\n",
       "      <td>0.8358</td>\n",
       "      <td>0.4708</td>\n",
       "      <td>0.9491</td>\n",
       "      <td>64.5096</td>\n",
       "      <td>18.4549</td>\n",
       "      <td>18.4549</td>\n",
       "      <td>27.9377</td>\n",
       "      <td>15.1135</td>\n",
       "      <td>9.0246</td>\n",
       "      <td>0.2946</td>\n",
       "      <td>9.6412</td>\n",
       "      <td>9.7015</td>\n",
       "      <td>2.6583</td>\n",
       "      <td>5.1018</td>\n",
       "      <td>1.7438</td>\n",
       "      <td>-0.8999</td>\n",
       "    </tr>\n",
       "    <tr>\n",
       "      <th>4</th>\n",
       "      <td>1.2931</td>\n",
       "      <td>0.2644</td>\n",
       "      <td>0.4036</td>\n",
       "      <td>3.8385</td>\n",
       "      <td>1.3269</td>\n",
       "      <td>1.3269</td>\n",
       "      <td>1.5847</td>\n",
       "      <td>1.2304</td>\n",
       "      <td>0.6518</td>\n",
       "      <td>4.9276</td>\n",
       "      <td>11.1256</td>\n",
       "      <td>19.4184</td>\n",
       "      <td>2.9364</td>\n",
       "      <td>8.1844</td>\n",
       "      <td>1.9725</td>\n",
       "      <td>2.4174</td>\n",
       "    </tr>\n",
       "  </tbody>\n",
       "</table>\n",
       "</div>"
      ],
      "text/plain": [
       "   Current Ratio  Long-term Debt / Capital  Debt/Equity Ratio  Gross Margin  \\\n",
       "0         1.1507                    0.4551             0.8847       77.6230   \n",
       "1         1.1129                    0.0072             0.0073       43.6619   \n",
       "2         1.9276                    0.2924             0.4255       11.9008   \n",
       "3         0.8358                    0.4708             0.9491       64.5096   \n",
       "4         1.2931                    0.2644             0.4036        3.8385   \n",
       "\n",
       "   Operating Margin  EBIT Margin  EBITDA Margin  Pre-Tax Profit Margin  \\\n",
       "0           19.4839      19.4839        28.9834                13.6093   \n",
       "1           19.8327      19.8327        23.9379                20.8699   \n",
       "2            3.3173       3.3173         3.6338                 3.0536   \n",
       "3           18.4549      18.4549        27.9377                15.1135   \n",
       "4            1.3269       1.3269         1.5847                 1.2304   \n",
       "\n",
       "   Net Profit Margin  Asset Turnover  ROE - Return On Equity  \\\n",
       "0             8.3224          0.3173                  8.1724   \n",
       "1            13.5690          0.3324                 22.0354   \n",
       "2             2.1418          2.4620                 13.6376   \n",
       "3             9.0246          0.2946                  9.6412   \n",
       "4             0.6518          4.9276                 11.1256   \n",
       "\n",
       "   Return On Tangible Equity  ROA - Return On Assets  \\\n",
       "0                     8.1978                  2.6385   \n",
       "1                    47.2858                  4.4944   \n",
       "2                    16.7991                  5.2731   \n",
       "3                     9.7015                  2.6583   \n",
       "4                    19.4184                  2.9364   \n",
       "\n",
       "   ROI - Return On Investment  Operating Cash Flow Per Share  \\\n",
       "0                      4.4530                         1.9957   \n",
       "1                     21.8765                         0.2501   \n",
       "2                      9.6494                        -7.6079   \n",
       "3                      5.1018                         1.7438   \n",
       "4                      8.1844                         1.9725   \n",
       "\n",
       "   Free Cash Flow Per Share  \n",
       "0                   -0.1333  \n",
       "1                    0.3132  \n",
       "2                   -7.3231  \n",
       "3                   -0.8999  \n",
       "4                    2.4174  "
      ]
     },
     "execution_count": 4,
     "metadata": {},
     "output_type": "execute_result"
    }
   ],
   "source": [
    "# Define features set\n",
    "X = clean.copy()\n",
    "X = X.drop(columns=['Binary Rating', 'Rating Agency', 'Rating Date', 'Sector', 'SIC Code'])\n",
    "X.head()"
   ]
  },
  {
   "cell_type": "code",
   "execution_count": 5,
   "metadata": {},
   "outputs": [
    {
     "data": {
      "text/plain": [
       "array([1, 1, 1, 1, 1])"
      ]
     },
     "execution_count": 5,
     "metadata": {},
     "output_type": "execute_result"
    }
   ],
   "source": [
    "# Define target vector\n",
    "y = clean[\"Binary Rating\"].values.ravel()\n",
    "y[:5]"
   ]
  },
  {
   "cell_type": "code",
   "execution_count": 6,
   "metadata": {},
   "outputs": [],
   "source": [
    "# Splitting into Train and Test sets\n",
    "X_train, X_test, y_train, y_test = train_test_split(X, y, random_state=78)"
   ]
  },
  {
   "cell_type": "code",
   "execution_count": 7,
   "metadata": {},
   "outputs": [],
   "source": [
    "from sklearn.preprocessing import QuantileTransformer\n",
    "scaler = QuantileTransformer(output_distribution='normal')"
   ]
  },
  {
   "cell_type": "code",
   "execution_count": 8,
   "metadata": {},
   "outputs": [],
   "source": [
    "# Fitting Standard Scaller\n",
    "X_scaler = scaler.fit(X_train)"
   ]
  },
  {
   "cell_type": "code",
   "execution_count": 9,
   "metadata": {},
   "outputs": [],
   "source": [
    "# Scaling data\n",
    "X_train_scaled = X_scaler.transform(X_train)\n",
    "X_test_scaled = X_scaler.transform(X_test)"
   ]
  },
  {
   "cell_type": "markdown",
   "metadata": {},
   "source": [
    "## Fitting the Random Forest Model"
   ]
  },
  {
   "cell_type": "code",
   "execution_count": 10,
   "metadata": {},
   "outputs": [],
   "source": [
    "# Create a random forest classifier\n",
    "rf_model = RandomForestClassifier(n_estimators=500, random_state=78)"
   ]
  },
  {
   "cell_type": "code",
   "execution_count": 11,
   "metadata": {},
   "outputs": [],
   "source": [
    "# Fitting the model\n",
    "rf_model = rf_model.fit(X_train_scaled, y_train)"
   ]
  },
  {
   "cell_type": "markdown",
   "metadata": {},
   "source": [
    "## Making Predictions Using the Random Forest Model"
   ]
  },
  {
   "cell_type": "code",
   "execution_count": 12,
   "metadata": {},
   "outputs": [],
   "source": [
    "# Making predictions using the testing data\n",
    "predictions = rf_model.predict(X_test_scaled)"
   ]
  },
  {
   "cell_type": "markdown",
   "metadata": {},
   "source": [
    "## Model Evaluation"
   ]
  },
  {
   "cell_type": "code",
   "execution_count": 13,
   "metadata": {},
   "outputs": [],
   "source": [
    "# Calculating the confusion matrix\n",
    "cm = confusion_matrix(y_test, predictions)\n",
    "cm_df = pd.DataFrame(\n",
    "    cm, index=[\"Actual 0\", \"Actual 1\"], columns=[\"Predicted 0\", \"Predicted 1\"]\n",
    ")\n",
    "\n",
    "# Calculating the accuracy score\n",
    "acc_score = accuracy_score(y_test, predictions)"
   ]
  },
  {
   "cell_type": "code",
   "execution_count": 14,
   "metadata": {},
   "outputs": [
    {
     "name": "stdout",
     "output_type": "stream",
     "text": [
      "Confusion Matrix\n"
     ]
    },
    {
     "data": {
      "text/html": [
       "<div>\n",
       "<style scoped>\n",
       "    .dataframe tbody tr th:only-of-type {\n",
       "        vertical-align: middle;\n",
       "    }\n",
       "\n",
       "    .dataframe tbody tr th {\n",
       "        vertical-align: top;\n",
       "    }\n",
       "\n",
       "    .dataframe thead th {\n",
       "        text-align: right;\n",
       "    }\n",
       "</style>\n",
       "<table border=\"1\" class=\"dataframe\">\n",
       "  <thead>\n",
       "    <tr style=\"text-align: right;\">\n",
       "      <th></th>\n",
       "      <th>Predicted 0</th>\n",
       "      <th>Predicted 1</th>\n",
       "    </tr>\n",
       "  </thead>\n",
       "  <tbody>\n",
       "    <tr>\n",
       "      <th>Actual 0</th>\n",
       "      <td>591</td>\n",
       "      <td>112</td>\n",
       "    </tr>\n",
       "    <tr>\n",
       "      <th>Actual 1</th>\n",
       "      <td>64</td>\n",
       "      <td>1185</td>\n",
       "    </tr>\n",
       "  </tbody>\n",
       "</table>\n",
       "</div>"
      ],
      "text/plain": [
       "          Predicted 0  Predicted 1\n",
       "Actual 0          591          112\n",
       "Actual 1           64         1185"
      ]
     },
     "metadata": {},
     "output_type": "display_data"
    },
    {
     "name": "stdout",
     "output_type": "stream",
     "text": [
      "Accuracy Score : 0.9098360655737705\n",
      "Classification Report\n",
      "              precision    recall  f1-score   support\n",
      "\n",
      "           0       0.90      0.84      0.87       703\n",
      "           1       0.91      0.95      0.93      1249\n",
      "\n",
      "    accuracy                           0.91      1952\n",
      "   macro avg       0.91      0.89      0.90      1952\n",
      "weighted avg       0.91      0.91      0.91      1952\n",
      "\n"
     ]
    }
   ],
   "source": [
    "# Displaying results\n",
    "print(\"Confusion Matrix\")\n",
    "display(cm_df)\n",
    "print(f\"Accuracy Score : {acc_score}\")\n",
    "print(\"Classification Report\")\n",
    "print(classification_report(y_test, predictions))"
   ]
  },
  {
   "cell_type": "markdown",
   "metadata": {},
   "source": [
    "## Feature Importance"
   ]
  },
  {
   "cell_type": "code",
   "execution_count": 15,
   "metadata": {},
   "outputs": [
    {
     "data": {
      "text/plain": [
       "[(0.10672494759082744, 'Pre-Tax Profit Margin'),\n",
       " (0.10158437258356967, 'Long-term Debt / Capital'),\n",
       " (0.09652325807856149, 'ROI - Return On Investment'),\n",
       " (0.07360099641155415, 'Net Profit Margin'),\n",
       " (0.07354660021674994, 'Current Ratio'),\n",
       " (0.0686554044692082, 'ROA - Return On Assets'),\n",
       " (0.06837242116007948, 'ROE - Return On Equity'),\n",
       " (0.06696190337946689, 'Debt/Equity Ratio'),\n",
       " (0.052346847256554765, 'EBITDA Margin'),\n",
       " (0.05057131767461908, 'Gross Margin'),\n",
       " (0.04849667975650484, 'Asset Turnover'),\n",
       " (0.0426035216643053, 'Return On Tangible Equity'),\n",
       " (0.04239174659376728, 'EBIT Margin'),\n",
       " (0.03958205345680897, 'Operating Margin'),\n",
       " (0.034843380144594975, 'Operating Cash Flow Per Share'),\n",
       " (0.03319454956282756, 'Free Cash Flow Per Share')]"
      ]
     },
     "execution_count": 15,
     "metadata": {},
     "output_type": "execute_result"
    }
   ],
   "source": [
    "# Random Forests in sklearn will automatically calculate feature importance\n",
    "importances = rf_model.feature_importances_\n",
    "# We can sort the features by their importance\n",
    "sorted(zip(rf_model.feature_importances_, X.columns), reverse=True)"
   ]
  },
  {
   "cell_type": "code",
   "execution_count": 16,
   "metadata": {},
   "outputs": [
    {
     "data": {
      "text/plain": [
       "<Axes: title={'center': 'Features Importances'}, ylabel='1'>"
      ]
     },
     "execution_count": 16,
     "metadata": {},
     "output_type": "execute_result"
    },
    {
     "data": {
      "image/png": "[encoded data removed]",
      "text/plain": [
       "<Figure size 640x480 with 1 Axes>"
      ]
     },
     "metadata": {},
     "output_type": "display_data"
    }
   ],
   "source": [
    "# Visualize the features by importance\n",
    "importances_df = pd.DataFrame(sorted(zip(rf_model.feature_importances_, X.columns), reverse=True))\n",
    "importances_df.set_index(importances_df[1], inplace=True)\n",
    "importances_df.drop(columns=1, inplace=True)\n",
    "importances_df.rename(columns={0: 'Feature Importances'}, inplace=True)\n",
    "importances_sorted = importances_df.sort_values(by='Feature Importances')\n",
    "importances_sorted.plot(kind='barh', color='lightgreen', title= 'Features Importances', legend=False)"
   ]
  },
  {
   "cell_type": "code",
   "execution_count": null,
   "metadata": {},
   "outputs": [],
   "source": []
  }
 ],
 "metadata": {
  "file_extension": ".py",
  "kernelspec": {
   "display_name": "Python 3 (ipykernel)",
   "language": "python",
   "name": "python3"
  },
  "language_info": {
   "codemirror_mode": {
    "name": "ipython",
    "version": 3
   },
   "file_extension": ".py",
   "mimetype": "text/x-python",
   "name": "python",
   "nbconvert_exporter": "python",
   "pygments_lexer": "ipython3",
   "version": "3.11.0"
  },
  "mimetype": "text/x-python",
  "name": "python",
  "npconvert_exporter": "python",
  "pygments_lexer": "ipython3",
  "version": 3
 },
 "nbformat": 4,
 "nbformat_minor": 4
}
