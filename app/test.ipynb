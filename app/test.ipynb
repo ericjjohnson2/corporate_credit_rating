{
 "cells": [
  {
   "cell_type": "code",
   "execution_count": 5,
   "metadata": {},
   "outputs": [
    {
     "name": "stdout",
     "output_type": "stream",
     "text": [
      "Valid Ratings are letters A-D and can be followed by + or -. Like AAA+ or AA- or D\n",
      "You provided the following: \n",
      "BBB 1 1 1 0\n"
     ]
    }
   ],
   "source": [
    "import tensorflow as tf\n",
    "from tensorflow.keras.callbacks import ModelCheckpoint\n",
    "\n",
    "# Step 1: Load your trained model\n",
    "# If your model is saved as a SavedModel\n",
    "# model = tf.keras.models.load_model('models/model2/model.h5')\n",
    "\n",
    "# Or, if your model is saved as an H5 file\n",
    "# model = tf.keras.models.load_model('path/to/your/model.h5')\n",
    "\n",
    "# Step 2: Prepare your data\n",
    "# This is highly dependent on your model and data. The following is a generic placeholder.\n",
    "# Make sure your input data is scaled/normalized as per your model's training\n",
    "# Rating\tBinary Rating\tDebt/Equity Ratio\tNet Profit Margin\tROE - Return On Equity\tROI - Return On Investment\n",
    "\n",
    "print('Valid Ratings are letters A-D and can be followed by + or -. Like AAA+ or AA- or D')\n",
    "rating = input('Enter the Rating: ')\n",
    "der = input('Enter the Debt Equity Ratio (0 to 1): ')\n",
    "npm = input('Enter the Net Profit Margin: ')\n",
    "roe = input('Enter the Return on Equity: ')\n",
    "roi = input('Enter the Return on Investment: ')\n",
    "\n",
    "print('You provided the following: ')\n",
    "print(f'{rating} {der} {npm} {roe} {roi}')\n",
    "\n",
    "#new_data = ... # Your new data to predict\n",
    "\n",
    "\n",
    "\n",
    "# prepared_data = preprocess_data(new_data)  # Implement this function based on your data preprocessing\n",
    "\n",
    "# # Step 3: Make predictions\n",
    "# predictions = model.predict(prepared_data)\n",
    "\n",
    "# # Optional: Post-process your predictions if necessary\n",
    "# final_predictions = postprocess_predictions(predictions)  # Implement based on your needs\n",
    "\n",
    "# print(final_predictions)"
   ]
  },
  {
   "cell_type": "code",
   "execution_count": null,
   "metadata": {},
   "outputs": [],
   "source": []
  }
 ],
 "metadata": {
  "kernelspec": {
   "display_name": "dev",
   "language": "python",
   "name": "python3"
  },
  "language_info": {
   "codemirror_mode": {
    "name": "ipython",
    "version": 3
   },
   "file_extension": ".py",
   "mimetype": "text/x-python",
   "name": "python",
   "nbconvert_exporter": "python",
   "pygments_lexer": "ipython3",
   "version": "3.11.0"
  }
 },
 "nbformat": 4,
 "nbformat_minor": 2
}
