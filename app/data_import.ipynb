{
 "cells": [
  {
   "cell_type": "markdown",
   "metadata": {},
   "source": [
    "# Data Import"
   ]
  },
  {
   "cell_type": "code",
   "execution_count": 14,
   "metadata": {},
   "outputs": [],
   "source": [
    "# Import Dependencies \n",
    "import findspark\n",
    "findspark.init()\n",
    "from pyspark.sql import SparkSession\n",
    "import time\n",
    "import matplotlib.pyplot as plt\n",
    "import pandas as pd\n",
    "import sqlite3\n",
    "from pyspark.sql.functions import col\n"
   ]
  },
  {
   "cell_type": "code",
   "execution_count": 2,
   "metadata": {},
   "outputs": [
    {
     "name": "stderr",
     "output_type": "stream",
     "text": [
      "24/03/18 12:14:05 WARN Utils: Your hostname, Home-iMac.local resolves to a loopback address: 127.0.0.1; using 192.168.1.3 instead (on interface en1)\n",
      "24/03/18 12:14:05 WARN Utils: Set SPARK_LOCAL_IP if you need to bind to another address\n",
      "Setting default log level to \"WARN\".\n",
      "To adjust logging level use sc.setLogLevel(newLevel). For SparkR, use setLogLevel(newLevel).\n",
      "24/03/18 12:14:06 WARN NativeCodeLoader: Unable to load native-hadoop library for your platform... using builtin-java classes where applicable\n"
     ]
    }
   ],
   "source": [
    "# Create a SparkSession\n",
    "spark = SparkSession.builder.appName(\"SparkSQL\").getOrCreate()"
   ]
  },
  {
   "cell_type": "code",
   "execution_count": 3,
   "metadata": {},
   "outputs": [
    {
     "name": "stdout",
     "output_type": "stream",
     "text": [
      "+--------------------+--------------------+------+-----------+-------+-------------+--------+------+------+-------------+------------------------+-----------------+------------+----------------+-----------+-------------+---------------------+-----------------+--------------+----------------------+-------------------------+----------------------+--------------------------+-----------------------------+------------------------+\n",
      "|       Rating Agency|         Corporation|Rating|Rating Date|    CIK|Binary Rating|SIC Code|Sector|Ticker|Current Ratio|Long-term Debt / Capital|Debt/Equity Ratio|Gross Margin|Operating Margin|EBIT Margin|EBITDA Margin|Pre-Tax Profit Margin|Net Profit Margin|Asset Turnover|ROE - Return On Equity|Return On Tangible Equity|ROA - Return On Assets|ROI - Return On Investment|Operating Cash Flow Per Share|Free Cash Flow Per Share|\n",
      "+--------------------+--------------------+------+-----------+-------+-------------+--------+------+------+-------------+------------------------+-----------------+------------+----------------+-----------+-------------+---------------------+-----------------+--------------+----------------------+-------------------------+----------------------+--------------------------+-----------------------------+------------------------+\n",
      "|Standard & Poor's...|American States W...|    A-| 2010-07-30|1056903|            1|  4941.0| Utils|   AWR|       1.1507|                  0.4551|           0.8847|      77.623|         19.4839|    19.4839|      28.9834|              13.6093|           8.3224|        0.3173|                8.1724|                   8.1978|                2.6385|                     4.453|                       1.9957|                 -0.1333|\n",
      "|Standard & Poor's...|Automatic Data Pr...|   AAA| 2010-09-16|   8670|            1|  7374.0| BusEq|   ADP|       1.1129|                  0.0072|           0.0073|     43.6619|         19.8327|    19.8327|      23.9379|              20.8699|           13.569|        0.3324|               22.0354|                  47.2858|                4.4944|                   21.8765|                       0.2501|                  0.3132|\n",
      "|Standard & Poor's...|          Avnet Inc.|  BBB-| 2010-11-23|   8858|            1|  5065.0| Shops|   AVT|       1.9276|                  0.2924|           0.4255|     11.9008|          3.3173|     3.3173|       3.6338|               3.0536|           2.1418|         2.462|               13.6376|                  16.7991|                5.2731|                    9.6494|                      -7.6079|                 -7.3231|\n",
      "|Standard & Poor's...|California Water ...|   AA-| 2010-06-29|1035201|            1|  4941.0| Utils|   CWT|       0.8358|                  0.4708|           0.9491|     64.5096|         18.4549|    18.4549|      27.9377|              15.1135|           9.0246|        0.2946|                9.6412|                   9.7015|                2.6583|                    5.1018|                       1.7438|                 -0.8999|\n",
      "|Standard & Poor's...|Cardinal Health Inc.|     A| 2010-07-14| 721371|            1|  5122.0| Shops|   CAH|       1.2931|                  0.2644|           0.4036|      3.8385|          1.3269|     1.3269|       1.5847|               1.2304|           0.6518|        4.9276|               11.1256|                  19.4184|                2.9364|                    8.1844|                       1.9725|                  2.4174|\n",
      "|Standard & Poor's...|Cardinal Health Inc.|  BBB+| 2010-09-16| 721371|            1|  5122.0| Shops|   CAH|       1.2931|                  0.2644|           0.4036|      3.8385|          1.3269|     1.3269|       1.5847|               1.2304|           0.6518|        4.9276|               11.1256|                  19.4184|                2.9364|                    8.1844|                       1.9725|                  2.4174|\n",
      "|Standard & Poor's...|Carpenter Technol...|   BBB| 2010-12-20|  17843|            1|  3312.0| Manuf|   CRS|       3.7607|                  0.3116|           0.4527|     12.0808|          0.9761|     0.9761|       5.9069|               0.3921|           0.1585|        0.7571|                0.3662|                   0.4034|                0.1326|                    0.2521|                      -0.6973|                  0.9587|\n",
      "|Standard & Poor's...|Companhia de Sane...|    BB| 2010-12-07|1170858|            0|  4941.0| Utils|   SBS|       0.8134|                  0.3452|           0.6231|     54.2938|         31.8143|    31.8143|      40.1446|              28.7928|          20.4126|        0.3121|               13.0426|                  15.2863|                6.3671|                    8.5405|                       1.5316|                  0.1005|\n",
      "|Standard & Poor's...|   Compass Group PLC|  BBB+| 2010-05-28|1563190|            1|  7371.0| BusEq|  COMP|       1.0668|                  0.3398|             0.89|     64.6665|         37.2524|    37.2524|      43.6578|              23.1982|          15.9279|        0.3886|               21.2038|                  18.3188|                6.5242|                   11.8033|                       1.2684|                  0.9432|\n",
      "|Standard & Poor's...|          Diageo PLC|    A-| 2010-10-01| 835403|            1|  2085.0| NoDur|   DEO|       1.7627|                  0.6308|           1.8312|     58.0879|         26.3191|    26.3191|      30.1227|              22.8936|           17.822|        0.5027|               37.0226|                 -91.3355|                9.1082|                   13.6689|                       1.5979|                  1.8099|\n",
      "|Standard & Poor's...|        Entergy Corp|  BBB-| 2010-09-15|  65984|            1|  4911.0| Utils|   ETR|       1.4196|                  0.5595|           1.3798|     65.5206|           21.26|      21.26|      34.8363|              17.5307|          11.4567|        0.2861|               14.5245|                  15.0183|                3.3306|                    6.3289|                      14.9775|                   5.116|\n",
      "|Standard & Poor's...|        Entergy Corp|    A-| 2010-09-28|  65984|            1|  4911.0| Utils|   ETR|       1.4196|                  0.5595|           1.3798|     65.5206|           21.26|      21.26|      34.8363|              17.5307|          11.4567|        0.2861|               14.5245|                  15.0183|                3.3306|                    6.3289|                      14.9775|                   5.116|\n",
      "|Standard & Poor's...|FMC Technologies ...|     A| 2010-12-10|1135152|            1|  3533.0| Manuf|   FTI|       1.2307|                  0.2743|           0.5031|     44.8414|         18.4424|    18.4424|      22.2616|               15.834|           9.9892|        0.6739|               12.6645|                 -52.2393|                6.7318|                    9.1905|                       4.7202|                  4.1827|\n",
      "|Standard & Poor's...|         FedEx Corp.|   BBB| 2010-10-26|1048911|            1|  4513.0| Other|   FDX|       1.5681|                  0.1078|           0.1397|     77.4457|          5.7523|     5.7523|      11.3894|               5.4529|           3.4088|        1.3948|                8.5729|                  10.1972|                4.7546|                    7.6491|                       1.1699|                  -0.049|\n",
      "|Standard & Poor's...|     Flowserve Corp.|    BB| 2010-11-05|  30625|            0|  3561.0| Manuf|   FLS|       1.7141|                  0.2304|           0.3145|     35.4648|         14.4211|    14.7838|      17.0209|              13.3965|           9.8021|        1.0274|               23.7731|                  52.7409|                10.081|                    18.296|                       2.5506|                  1.9125|\n",
      "|Standard & Poor's...|         Fluor Corp.|     A| 2010-11-23|1124198|            1|  1600.0| Other|   FLR|       1.5515|                  0.0053|           0.0383|      5.9169|          5.1051|     5.1051|       6.0856|               5.1695|           3.1145|        3.0634|               21.9826|                  22.5789|               10.2093|                   21.8662|                       5.0039|                  3.9227|\n",
      "|Standard & Poor's...|Fresh Del Monte P...|     B| 2010-06-01|1047340|            0|   100.0| NoDur|   FDP|        2.543|                  0.1589|           0.1918|      8.8891|          4.2386|     4.2386|       6.7269|               3.7696|           4.1157|        1.3468|                  8.53|                  11.2424|                5.5701|                    7.1744|                       4.0444|                  2.9936|\n",
      "|Standard & Poor's...|  General Mills Inc.|  BBB+| 2010-11-11|  40704|            1|  2040.0| NoDur|   GIS|       0.9233|                  0.4826|           1.1377|     39.6308|         17.8066|    17.8066|      20.9298|              15.0626|          10.4574|        0.8279|               27.1778|                 -32.9413|                8.6827|                   14.0613|                       0.6462|                  0.4849|\n",
      "|Standard & Poor's...|          Jabil Inc.|   BB+| 2010-11-03| 898293|            0|  3672.0| BusEq|   JBL|       1.2909|                  0.3901|           0.7449|      7.4884|          2.4428|     2.4428|       4.5554|                1.844|           1.2591|        2.1058|               10.7213|                  11.6947|                2.6817|                    6.5385|                      -0.7281|                 -1.1496|\n",
      "|Standard & Poor's...|     Kennametal Inc.|   BBB| 2010-07-15|  55242|            1|  3540.0| Manuf|   KMT|       2.3306|                  0.1909|           0.2532|     33.3177|          4.9482|     4.9482|      10.0664|               4.0658|           2.4638|        0.8308|                3.7216|                   7.2057|                2.1882|                     3.011|                      -0.6116|                  0.1514|\n",
      "+--------------------+--------------------+------+-----------+-------+-------------+--------+------+------+-------------+------------------------+-----------------+------------+----------------+-----------+-------------+---------------------+-----------------+--------------+----------------------+-------------------------+----------------------+--------------------------+-----------------------------+------------------------+\n",
      "only showing top 20 rows\n",
      "\n"
     ]
    }
   ],
   "source": [
    "# Read in the CSV into a DataFrame.\n",
    "from pyspark import SparkFiles\n",
    "path = \"../data/ratings.csv\"\n",
    "\n",
    "spark.sparkContext.addFile(path)\n",
    "df = spark.read.csv(SparkFiles.get(\"ratings.csv\"), sep=\",\", header=True)\n",
    "df.show()"
   ]
  },
  {
   "cell_type": "code",
   "execution_count": 4,
   "metadata": {},
   "outputs": [],
   "source": [
    "# Create a temporary view of the DataFrame.\n",
    "df.createOrReplaceTempView('ratings')"
   ]
  },
  {
   "cell_type": "markdown",
   "metadata": {},
   "source": [
    "## Explore the data"
   ]
  },
  {
   "cell_type": "code",
   "execution_count": 5,
   "metadata": {},
   "outputs": [
    {
     "name": "stdout",
     "output_type": "stream",
     "text": [
      "+----+------+-------------+\n",
      "|YEAR|Rating|count(Rating)|\n",
      "+----+------+-------------+\n",
      "|2010|  BBB+|            6|\n",
      "|2010|   BBB|            5|\n",
      "|2010|    A-|            5|\n",
      "|2010|  BBB-|            5|\n",
      "|2010|     A|            5|\n",
      "|2010|   AAA|            3|\n",
      "|2010|   BB+|            3|\n",
      "|2010|   BB-|            3|\n",
      "|2010|    B+|            2|\n",
      "|2010|    BB|            2|\n",
      "|2010|   AA-|            1|\n",
      "|2010|     B|            1|\n",
      "|2011|   BBB|           41|\n",
      "|2011|     A|           40|\n",
      "|2011|  BBB-|           36|\n",
      "|2011|  BBB+|           36|\n",
      "|2011|   BB-|           23|\n",
      "|2011|     B|           23|\n",
      "|2011|    A-|           22|\n",
      "|2011|   BB+|           22|\n",
      "|2011|    BB|           16|\n",
      "|2011|    A+|           10|\n",
      "|2011|    AA|           10|\n",
      "|2011|   AAA|           10|\n",
      "|2011|  CCC+|            9|\n",
      "|2011|    B+|            9|\n",
      "|2011|    B-|            6|\n",
      "|2011|   CCC|            6|\n",
      "|2011|   AA-|            3|\n",
      "|2011|    CC|            1|\n",
      "|2011|     C|            1|\n",
      "|2011|  CCC-|            1|\n",
      "|2012|   BBB|          147|\n",
      "|2012|  BBB+|          136|\n",
      "|2012|  BBB-|          114|\n",
      "|2012|     A|           99|\n",
      "|2012|    B+|           79|\n",
      "|2012|   BB-|           75|\n",
      "|2012|    A-|           71|\n",
      "|2012|    BB|           66|\n",
      "|2012|   BB+|           56|\n",
      "|2012|    B-|           55|\n",
      "|2012|     B|           51|\n",
      "|2012|    A+|           27|\n",
      "|2012|  CCC+|           20|\n",
      "|2012|    AA|           18|\n",
      "|2012|   AA-|           16|\n",
      "|2012|   CCC|           11|\n",
      "|2012|   AAA|           11|\n",
      "|2012|   AA+|            5|\n",
      "|2012|    CC|            5|\n",
      "|2012|  CCC-|            4|\n",
      "|2012|     C|            4|\n",
      "|2012|     D|            1|\n",
      "|2013|   BBB|          181|\n",
      "|2013|  BBB+|          165|\n",
      "|2013|     A|          137|\n",
      "|2013|    A-|          131|\n",
      "|2013|  BBB-|          116|\n",
      "|2013|    A+|           85|\n",
      "|2013|    BB|           82|\n",
      "|2013|   BB-|           80|\n",
      "|2013|   BB+|           79|\n",
      "|2013|    B+|           79|\n",
      "|2013|     B|           58|\n",
      "|2013|    B-|           52|\n",
      "|2013|   AA-|           45|\n",
      "|2013|    AA|           28|\n",
      "|2013|  CCC+|           23|\n",
      "|2013|   CCC|           18|\n",
      "|2013|   AAA|           12|\n",
      "|2013|   AA+|           11|\n",
      "|2013|    CC|            4|\n",
      "|2013|     D|            1|\n",
      "|2014|    A-|          229|\n",
      "|2014|   BBB|          222|\n",
      "|2014|     A|          216|\n",
      "|2014|  BBB+|          200|\n",
      "|2014|    A+|          175|\n",
      "|2014|  BBB-|          138|\n",
      "|2014|   BB+|          136|\n",
      "|2014|    BB|           97|\n",
      "|2014|   BB-|           89|\n",
      "|2014|   AA-|           89|\n",
      "|2014|    B+|           87|\n",
      "|2014|     B|           67|\n",
      "|2014|    B-|           64|\n",
      "|2014|    AA|           40|\n",
      "|2014|  CCC+|           35|\n",
      "|2014|   AA+|           28|\n",
      "|2014|   CCC|           15|\n",
      "|2014|   AAA|           13|\n",
      "|2014|     D|            1|\n",
      "|2014|  CCC-|            1|\n",
      "|2014|    CC|            1|\n",
      "|2014|     C|            1|\n",
      "|2015|     A|          243|\n",
      "|2015|  BBB+|          216|\n",
      "|2015|   BBB|          209|\n",
      "|2015|    A-|          205|\n",
      "|2015|  BBB-|          186|\n",
      "|2015|   BB+|          164|\n",
      "|2015|    A+|          159|\n",
      "|2015|    BB|          122|\n",
      "|2015|    B+|           99|\n",
      "|2015|   AA-|           90|\n",
      "|2015|   BB-|           85|\n",
      "|2015|     B|           63|\n",
      "|2015|    B-|           62|\n",
      "|2015|    AA|           58|\n",
      "|2015|  CCC+|           36|\n",
      "|2015|   AA+|           25|\n",
      "|2015|   AAA|           22|\n",
      "|2015|   CCC|            9|\n",
      "|2015|     C|            5|\n",
      "|2015|  CCC-|            2|\n",
      "|2015|    CC|            1|\n",
      "|2015|   CC+|            1|\n",
      "|2016|  BBB-|          110|\n",
      "|2016|   BBB|          105|\n",
      "|2016|     A|           96|\n",
      "|2016|  BBB+|           87|\n",
      "|2016|   BB+|           85|\n",
      "|2016|   BB-|           72|\n",
      "|2016|    BB|           68|\n",
      "|2016|    B+|           67|\n",
      "|2016|    A-|           59|\n",
      "|2016|    B-|           49|\n",
      "|2016|     B|           47|\n",
      "|2016|    AA|           31|\n",
      "|2016|  CCC+|           28|\n",
      "|2016|    A+|           22|\n",
      "|2016|   AAA|           19|\n",
      "|2016|   AA-|           10|\n",
      "|2016|   CCC|            6|\n",
      "|2016|    CC|            6|\n",
      "|2016|   AA+|            4|\n",
      "|2016|     D|            2|\n",
      "|2016|  CCC-|            2|\n",
      "+----+------+-------------+\n",
      "\n"
     ]
    }
   ],
   "source": [
    "# Explore the data\n",
    "query = \"\"\"\n",
    "SELECT YEAR(`Rating Date`) as YEAR, Rating, COUNT(Rating)\n",
    "FROM ratings\n",
    "GROUP BY YEAR(`Rating Date`), Rating\n",
    "ORDER BY YEAR(`Rating Date`), COUNT(Rating) DESC;\n",
    "\"\"\"\n",
    "spark.sql(query).show(500)"
   ]
  },
  {
   "cell_type": "code",
   "execution_count": 6,
   "metadata": {},
   "outputs": [
    {
     "name": "stdout",
     "output_type": "stream",
     "text": [
      "+----+------+-------------+\n",
      "|YEAR|Sector|count(Sector)|\n",
      "+----+------+-------------+\n",
      "|2010| Utils|           13|\n",
      "|2010| Other|            8|\n",
      "|2010| BusEq|            5|\n",
      "|2010| Shops|            4|\n",
      "|2010| Manuf|            4|\n",
      "|2010| NoDur|            3|\n",
      "|2010|  Hlth|            1|\n",
      "|2010| Telcm|            1|\n",
      "|2010| Chems|            1|\n",
      "|2010| Money|            1|\n",
      "|2011| Other|           52|\n",
      "|2011| Manuf|           47|\n",
      "|2011| Utils|           38|\n",
      "|2011| BusEq|           35|\n",
      "|2011|  Hlth|           30|\n",
      "|2011| Enrgy|           27|\n",
      "|2011| Telcm|           22|\n",
      "|2011| Shops|           21|\n",
      "|2011| NoDur|           18|\n",
      "|2011| Durbl|           14|\n",
      "|2011| Chems|           12|\n",
      "|2011| Money|            9|\n",
      "|2012| Other|          188|\n",
      "|2012| Manuf|          140|\n",
      "|2012| BusEq|          126|\n",
      "|2012| Utils|          106|\n",
      "|2012| Shops|          101|\n",
      "|2012| Enrgy|           84|\n",
      "|2012| NoDur|           82|\n",
      "|2012|  Hlth|           74|\n",
      "|2012| Telcm|           66|\n",
      "|2012| Chems|           43|\n",
      "|2012| Money|           33|\n",
      "|2012| Durbl|           28|\n",
      "|2013| Other|          202|\n",
      "|2013| Manuf|          186|\n",
      "|2013| BusEq|          163|\n",
      "|2013| Shops|          154|\n",
      "|2013| Utils|          153|\n",
      "|2013|  Hlth|          117|\n",
      "|2013| NoDur|          108|\n",
      "|2013| Enrgy|           94|\n",
      "|2013| Telcm|           81|\n",
      "|2013| Chems|           57|\n",
      "|2013| Money|           39|\n",
      "|2013| Durbl|           33|\n",
      "|2014| Other|          292|\n",
      "|2014| BusEq|          237|\n",
      "|2014| Manuf|          236|\n",
      "|2014| Utils|          233|\n",
      "|2014| Shops|          202|\n",
      "|2014|  Hlth|          161|\n",
      "|2014| Enrgy|          158|\n",
      "|2014| NoDur|          139|\n",
      "|2014| Chems|           86|\n",
      "|2014| Telcm|           86|\n",
      "|2014| Durbl|           59|\n",
      "|2014| Money|           55|\n",
      "|2015| Other|          332|\n",
      "|2015| BusEq|          258|\n",
      "|2015| Manuf|          251|\n",
      "|2015| Shops|          223|\n",
      "|2015| Utils|          211|\n",
      "|2015| Enrgy|          187|\n",
      "|2015|  Hlth|          175|\n",
      "|2015| NoDur|          164|\n",
      "|2015| Chems|           77|\n",
      "|2015| Telcm|           75|\n",
      "|2015| Durbl|           61|\n",
      "|2015| Money|           48|\n",
      "|2016| Other|          177|\n",
      "|2016| BusEq|          134|\n",
      "|2016| Manuf|          117|\n",
      "|2016| Enrgy|          115|\n",
      "|2016| Utils|           89|\n",
      "|2016| Shops|           81|\n",
      "|2016|  Hlth|           67|\n",
      "|2016| Telcm|           55|\n",
      "|2016| NoDur|           53|\n",
      "|2016| Chems|           39|\n",
      "|2016| Durbl|           26|\n",
      "|2016| Money|           22|\n",
      "+----+------+-------------+\n",
      "\n"
     ]
    }
   ],
   "source": [
    "query = \"\"\"\n",
    "SELECT YEAR(`Rating Date`) as YEAR, Sector, COUNT(Sector)\n",
    "FROM ratings\n",
    "GROUP BY YEAR(`Rating Date`), Sector\n",
    "ORDER BY YEAR(`Rating Date`), COUNT(Sector) DESC;\n",
    "\"\"\"\n",
    "spark.sql(query).show(500)"
   ]
  },
  {
   "cell_type": "code",
   "execution_count": 7,
   "metadata": {},
   "outputs": [
    {
     "data": {
      "image/png": "[encoded data removed]",
      "text/plain": [
       "<Figure size 1000x600 with 1 Axes>"
      ]
     },
     "metadata": {},
     "output_type": "display_data"
    }
   ],
   "source": [
    "query = \"\"\"\n",
    "SELECT YEAR(`Rating Date`) as YEAR, Sector, COUNT(Sector) as SectorCount\n",
    "FROM ratings\n",
    "WHERE Sector = 'Utils'\n",
    "GROUP BY YEAR(`Rating Date`), Sector\n",
    "ORDER BY YEAR(`Rating Date`);\n",
    "\"\"\"\n",
    "result_df = spark.sql(query).toPandas()\n",
    "\n",
    "# Plotting\n",
    "plt.figure(figsize=(10, 6))\n",
    "plt.bar(result_df['YEAR'], result_df['SectorCount'])\n",
    "plt.title('Number of Ratings for Utilities Sector Over the Years')\n",
    "plt.xlabel('Year')\n",
    "plt.ylabel('Number of Ratings')\n",
    "plt.xticks(rotation=45)\n",
    "plt.tight_layout()\n",
    "plt.show()"
   ]
  },
  {
   "cell_type": "code",
   "execution_count": 8,
   "metadata": {},
   "outputs": [
    {
     "data": {
      "image/png": "[encoded data removed]",
      "text/plain": [
       "<Figure size 1200x600 with 1 Axes>"
      ]
     },
     "metadata": {},
     "output_type": "display_data"
    }
   ],
   "source": [
    "query = \"\"\"\n",
    "SELECT YEAR(`Rating Date`) as Year, Rating, COUNT(Rating) as RatingCount\n",
    "FROM ratings\n",
    "WHERE Sector = 'Utils'\n",
    "GROUP BY YEAR(`Rating Date`), Rating\n",
    "ORDER BY Year;\n",
    "\"\"\"\n",
    "result_df = spark.sql(query).toPandas()\n",
    "# result_df.head()\n",
    "\n",
    "pivot_df = result_df.pivot(index='Rating', columns='Year', values='RatingCount')\n",
    "\n",
    "# Plotting\n",
    "pivot_df.plot(kind='bar', figsize=(12, 6))\n",
    "plt.title('Ratings for Utilities Sector Over the Years')\n",
    "plt.xlabel('Rating')\n",
    "plt.ylabel('Number of Ratings')\n",
    "plt.xticks(rotation=45)\n",
    "plt.legend(title='Year')\n",
    "plt.tight_layout()\n",
    "plt.show()"
   ]
  },
  {
   "cell_type": "code",
   "execution_count": 9,
   "metadata": {},
   "outputs": [
    {
     "name": "stdout",
     "output_type": "stream",
     "text": [
      "+------+-----------+\n",
      "|Rating|RatingCount|\n",
      "+------+-----------+\n",
      "|   BBB|        910|\n",
      "|  BBB+|        846|\n",
      "|     A|        836|\n",
      "|    A-|        722|\n",
      "|  BBB-|        705|\n",
      "|   BB+|        545|\n",
      "|    A+|        478|\n",
      "|    BB|        453|\n",
      "|   BB-|        427|\n",
      "|    B+|        422|\n",
      "|     B|        310|\n",
      "|    B-|        288|\n",
      "|   AA-|        254|\n",
      "|    AA|        185|\n",
      "|  CCC+|        151|\n",
      "|   AAA|         90|\n",
      "|   AA+|         73|\n",
      "|   CCC|         65|\n",
      "|    CC|         18|\n",
      "|     C|         11|\n",
      "|  CCC-|         10|\n",
      "|     D|          5|\n",
      "|   CC+|          1|\n",
      "+------+-----------+\n",
      "\n"
     ]
    }
   ],
   "source": [
    "query = \"\"\"\n",
    "SELECT Rating, COUNT(*) as RatingCount\n",
    "FROM ratings\n",
    "GROUP BY Rating\n",
    "ORDER BY RatingCount DESC\n",
    "\"\"\"\n",
    "spark.sql(query).show(500)"
   ]
  },
  {
   "cell_type": "code",
   "execution_count": 10,
   "metadata": {},
   "outputs": [
    {
     "name": "stdout",
     "output_type": "stream",
     "text": [
      "root\n",
      " |-- Rating Agency: string (nullable = true)\n",
      " |-- Corporation: string (nullable = true)\n",
      " |-- Rating: string (nullable = true)\n",
      " |-- Rating Date: string (nullable = true)\n",
      " |-- CIK: string (nullable = true)\n",
      " |-- Binary Rating: string (nullable = true)\n",
      " |-- SIC Code: string (nullable = true)\n",
      " |-- Sector: string (nullable = true)\n",
      " |-- Ticker: string (nullable = true)\n",
      " |-- Current Ratio: string (nullable = true)\n",
      " |-- Long-term Debt / Capital: string (nullable = true)\n",
      " |-- Debt/Equity Ratio: string (nullable = true)\n",
      " |-- Gross Margin: string (nullable = true)\n",
      " |-- Operating Margin: string (nullable = true)\n",
      " |-- EBIT Margin: string (nullable = true)\n",
      " |-- EBITDA Margin: string (nullable = true)\n",
      " |-- Pre-Tax Profit Margin: string (nullable = true)\n",
      " |-- Net Profit Margin: string (nullable = true)\n",
      " |-- Asset Turnover: string (nullable = true)\n",
      " |-- ROE - Return On Equity: string (nullable = true)\n",
      " |-- Return On Tangible Equity: string (nullable = true)\n",
      " |-- ROA - Return On Assets: string (nullable = true)\n",
      " |-- ROI - Return On Investment: string (nullable = true)\n",
      " |-- Operating Cash Flow Per Share: string (nullable = true)\n",
      " |-- Free Cash Flow Per Share: string (nullable = true)\n",
      "\n"
     ]
    }
   ],
   "source": [
    "df.printSchema()\n"
   ]
  },
  {
   "cell_type": "code",
   "execution_count": 20,
   "metadata": {},
   "outputs": [
    {
     "name": "stdout",
     "output_type": "stream",
     "text": [
      "+------+-----------+\n",
      "|Rating|RatingCount|\n",
      "+------+-----------+\n",
      "|   CCC|         65|\n",
      "|     B|        310|\n",
      "|  CCC+|        151|\n",
      "|     D|          5|\n",
      "|     C|         11|\n",
      "|    CC|         18|\n",
      "|   CC+|          1|\n",
      "|    B+|        422|\n",
      "|    B-|        288|\n",
      "|  CCC-|         10|\n",
      "|   BB+|        545|\n",
      "|   BB-|        427|\n",
      "|    BB|        453|\n",
      "+------+-----------+\n",
      "\n"
     ]
    }
   ],
   "source": [
    "\n",
    "# Ratings when the Binary Rating = 0\n",
    "query = \"\"\"\n",
    "SELECT Rating, COUNT(*) AS RatingCount\n",
    "FROM ratings\n",
    "WHERE `Binary Rating` = '0' \n",
    "GROUP BY Rating;\n",
    "\"\"\"\n",
    "spark.sql(query).show(500)"
   ]
  },
  {
   "cell_type": "code",
   "execution_count": 21,
   "metadata": {},
   "outputs": [
    {
     "name": "stdout",
     "output_type": "stream",
     "text": [
      "+------+-----------+\n",
      "|Rating|RatingCount|\n",
      "+------+-----------+\n",
      "|    AA|        185|\n",
      "|  BBB+|        846|\n",
      "|   BBB|        910|\n",
      "|   AA-|        254|\n",
      "|   AA+|         73|\n",
      "|    A-|        722|\n",
      "|     A|        836|\n",
      "|    A+|        478|\n",
      "|  BBB-|        705|\n",
      "|   AAA|         90|\n",
      "+------+-----------+\n",
      "\n"
     ]
    }
   ],
   "source": [
    "# Ratings when the Binary Rating = 1\n",
    "query = \"\"\"\n",
    "SELECT Rating, COUNT(*) AS RatingCount\n",
    "FROM ratings\n",
    "WHERE `Binary Rating` = '1' \n",
    "GROUP BY Rating;\n",
    "\"\"\"\n",
    "spark.sql(query).show(500)"
   ]
  },
  {
   "cell_type": "code",
   "execution_count": 26,
   "metadata": {},
   "outputs": [
    {
     "name": "stdout",
     "output_type": "stream",
     "text": [
      "+------------------+-------------------+-----------------+-----------------+------------------+------------------+-----------------+---------------------+------------------+------------------+------------------+-----------------+-----------------+------------------+------------------+-------------------+\n",
      "|   CurrentRatioAvg|     DebtCapitalAvg|    DebtEquityAvg|   GrossMarginAvg|OperatingMarginAvg|     EBITMarginAvg|  EBITDAMarginAvg|PreTaxProfitMarginAvg|NetProfitMarginAvg|  AssetTurnoverAvg|            ROEAvg|          ROTEAvg|           ROAAvg|            ROIAvg|       CashFlowAvg|    FreeCashFlowAvg|\n",
      "+------------------+-------------------+-----------------+-----------------+------------------+------------------+-----------------+---------------------+------------------+------------------+------------------+-----------------+-----------------+------------------+------------------+-------------------+\n",
      "|1.7000416172505781|0.39154163572461703|0.571551497270132|45.04492034338624|15.263764453323086|15.337796425347873|22.87826757194523|   13.208492167956672|  9.63157898800239|0.8520597972006488|21.556331902717545|32.61578945667545|6.273606891114616|10.239279267634773|0.5576419512882638|0.19417676173054785|\n",
      "+------------------+-------------------+-----------------+-----------------+------------------+------------------+-----------------+---------------------+------------------+------------------+------------------+-----------------+-----------------+------------------+------------------+-------------------+\n",
      "\n"
     ]
    },
    {
     "name": "stderr",
     "output_type": "stream",
     "text": [
      "24/03/18 12:43:00 WARN package: Truncated the string representation of a plan since it was too large. This behavior can be adjusted by setting 'spark.sql.debug.maxToStringFields'.\n"
     ]
    }
   ],
   "source": [
    "# Average Values for \"Good Credit\"\n",
    "query = \"\"\"\n",
    "SELECT \n",
    "    AVG(CAST(`Current Ratio` AS FLOAT)) AS CurrentRatioAvg, \n",
    "    AVG(CAST(`Long-term Debt / Capital` AS FLOAT)) AS DebtCapitalAvg, \n",
    "    AVG(CAST(`Debt/Equity Ratio` AS FLOAT)) AS DebtEquityAvg, \n",
    "    AVG(CAST(`Gross Margin` AS FLOAT)) AS GrossMarginAvg, \n",
    "    AVG(CAST(`Operating Margin` AS FLOAT)) AS OperatingMarginAvg, \n",
    "    AVG(CAST(`EBIT Margin` AS FLOAT)) AS EBITMarginAvg, \n",
    "    AVG(CAST(`EBITDA Margin` AS FLOAT)) AS EBITDAMarginAvg, \n",
    "    AVG(CAST(`Pre-Tax Profit Margin` AS FLOAT)) AS PreTaxProfitMarginAvg, \n",
    "    AVG(CAST(`Net Profit Margin` AS FLOAT)) AS NetProfitMarginAvg, \n",
    "    AVG(CAST(`Asset Turnover` AS FLOAT)) AS AssetTurnoverAvg, \n",
    "    AVG(CAST(`ROE - Return On Equity` AS FLOAT)) AS ROEAvg, \n",
    "    AVG(CAST(`Return On Tangible Equity` AS FLOAT)) AS ROTEAvg, \n",
    "    AVG(CAST(`ROA - Return On Assets` AS FLOAT)) AS ROAAvg, \n",
    "    AVG(CAST(`ROI - Return On Investment` AS FLOAT)) AS ROIAvg, \n",
    "    AVG(CAST(`Operating Cash Flow Per Share` AS FLOAT)) AS CashFlowAvg, \n",
    "    AVG(CAST(`Free Cash Flow Per Share` AS FLOAT)) AS FreeCashFlowAvg \n",
    "FROM ratings\n",
    "WHERE `Binary Rating` = '1';\n",
    "\"\"\"\n",
    "spark.sql(query).show(500)\n",
    "\n"
   ]
  },
  {
   "cell_type": "code",
   "execution_count": 27,
   "metadata": {},
   "outputs": [
    {
     "name": "stdout",
     "output_type": "stream",
     "text": [
      "+------------------+------------------+-------------------+------------------+------------------+-----------------+------------------+---------------------+-------------------+------------------+-----------------+------------------+------------------+------------------+-------------------+-------------------+\n",
      "|   CurrentRatioAvg|    DebtCapitalAvg|      DebtEquityAvg|    GrossMarginAvg|OperatingMarginAvg|    EBITMarginAvg|   EBITDAMarginAvg|PreTaxProfitMarginAvg| NetProfitMarginAvg|  AssetTurnoverAvg|           ROEAvg|           ROTEAvg|            ROAAvg|            ROIAvg|        CashFlowAvg|    FreeCashFlowAvg|\n",
      "+------------------+------------------+-------------------+------------------+------------------+-----------------+------------------+---------------------+-------------------+------------------+-----------------+------------------+------------------+------------------+-------------------+-------------------+\n",
      "|2.3526830720300156|0.5682417183037755|-0.5654602079360223|37.513898459964565| 4.499001143111986|4.506804767438518|14.782601629184931|  0.08897349378055358|-0.8558874811721344|0.8456652989805141|5.387275616069623|0.5010672376986045|1.3762966868673614|1.1155774488727475|0.33299301414295696|-0.0212421940529868|\n",
      "+------------------+------------------+-------------------+------------------+------------------+-----------------+------------------+---------------------+-------------------+------------------+-----------------+------------------+------------------+------------------+-------------------+-------------------+\n",
      "\n"
     ]
    }
   ],
   "source": [
    "# Average Values for \"Good Credit\"\n",
    "query = \"\"\"\n",
    "SELECT \n",
    "    AVG(CAST(`Current Ratio` AS FLOAT)) AS CurrentRatioAvg, \n",
    "    AVG(CAST(`Long-term Debt / Capital` AS FLOAT)) AS DebtCapitalAvg, \n",
    "    AVG(CAST(`Debt/Equity Ratio` AS FLOAT)) AS DebtEquityAvg, \n",
    "    AVG(CAST(`Gross Margin` AS FLOAT)) AS GrossMarginAvg, \n",
    "    AVG(CAST(`Operating Margin` AS FLOAT)) AS OperatingMarginAvg, \n",
    "    AVG(CAST(`EBIT Margin` AS FLOAT)) AS EBITMarginAvg, \n",
    "    AVG(CAST(`EBITDA Margin` AS FLOAT)) AS EBITDAMarginAvg, \n",
    "    AVG(CAST(`Pre-Tax Profit Margin` AS FLOAT)) AS PreTaxProfitMarginAvg, \n",
    "    AVG(CAST(`Net Profit Margin` AS FLOAT)) AS NetProfitMarginAvg, \n",
    "    AVG(CAST(`Asset Turnover` AS FLOAT)) AS AssetTurnoverAvg, \n",
    "    AVG(CAST(`ROE - Return On Equity` AS FLOAT)) AS ROEAvg, \n",
    "    AVG(CAST(`Return On Tangible Equity` AS FLOAT)) AS ROTEAvg, \n",
    "    AVG(CAST(`ROA - Return On Assets` AS FLOAT)) AS ROAAvg, \n",
    "    AVG(CAST(`ROI - Return On Investment` AS FLOAT)) AS ROIAvg, \n",
    "    AVG(CAST(`Operating Cash Flow Per Share` AS FLOAT)) AS CashFlowAvg, \n",
    "    AVG(CAST(`Free Cash Flow Per Share` AS FLOAT)) AS FreeCashFlowAvg \n",
    "FROM ratings\n",
    "WHERE `Binary Rating` = '0';\n",
    "\"\"\"\n",
    "spark.sql(query).show(500)\n"
   ]
  },
  {
   "cell_type": "markdown",
   "metadata": {},
   "source": [
    "## Save to a database"
   ]
  },
  {
   "cell_type": "code",
   "execution_count": 11,
   "metadata": {},
   "outputs": [],
   "source": [
    "# # Create a database\n",
    "# conn = sqlite3.connect('../data/db.sqlite')\n",
    "# conn.close()\n",
    "\n",
    "# # Connect to the database\n",
    "# conn = sqlite3.connect('../data/db.sqlite')\n",
    "\n",
    "# # Import CSV into database\n",
    "# df = pd.read_csv('../data/ratings.csv')\n",
    "\n",
    "# df.to_sql('ratings', conn, index=False, if_exists='replace', dtype={'id': 'INTEGER PRIMARY KEY'})\n",
    "\n",
    "# conn.close()"
   ]
  }
 ],
 "metadata": {
  "kernelspec": {
   "display_name": "dev",
   "language": "python",
   "name": "python3"
  },
  "language_info": {
   "codemirror_mode": {
    "name": "ipython",
    "version": 3
   },
   "file_extension": ".py",
   "mimetype": "text/x-python",
   "name": "python",
   "nbconvert_exporter": "python",
   "pygments_lexer": "ipython3",
   "version": "3.11.0"
  }
 },
 "nbformat": 4,
 "nbformat_minor": 2
}
